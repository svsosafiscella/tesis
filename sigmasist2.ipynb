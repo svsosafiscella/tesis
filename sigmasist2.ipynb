{
 "cells": [
  {
   "cell_type": "code",
   "execution_count": 1,
   "metadata": {
    "collapsed": true
   },
   "outputs": [],
   "source": [
    "import numpy as np\n",
    "\n",
    "import decimal\n",
    "import matplotlib.pyplot as plt\n",
    "import matplotlib.cbook as cbook\n",
    "import subprocess\n",
    "import math"
   ]
  },
  {
   "cell_type": "code",
   "execution_count": 2,
   "metadata": {
    "collapsed": true
   },
   "outputs": [],
   "source": [
    "# pequeña funcion que nos servira mas adelante para saber por cuanto debemos multiplicar\n",
    "# el paso para poder obtener un numero entero que ingresar en el for\n",
    "def num_after_point(x):\n",
    "    s = str(x)\n",
    "    if not '.' in s:\n",
    "        return 0\n",
    "    return len(s) - s.index('.') - 1"
   ]
  },
  {
   "cell_type": "code",
   "execution_count": 45,
   "metadata": {
    "collapsed": true
   },
   "outputs": [],
   "source": [
    "def chissqr(sigma_s):    # funcion que, dado un sigma sistematico, encuentra el chi cuadrado del grafico de residuos  \n",
    "\n",
    "# creamos un nuevo archivo .tim en el cual a los errores sumamos este sigma sistematico\n",
    "\n",
    "    timing_folder = './timing_' + str(sn) + '/'\n",
    "    timfile = \"data_\" + str(sigma_s) + \".tim\"     # nombre del nuevo archivo .tim, donde hemos sumado el sigma sistematico\n",
    "    resfile = \"residues_\" + str(sigma_s) + \".dat\" # nombre del archivo que contendra el chi cuadrado\n",
    "    \n",
    "    f = open(timing_folder + timfile, \"w+\")                    # abrimos el nuevo archivo .tim\n",
    "    print(\"FORMAT 1\" , file = f)               # escibimos la primera linea\n",
    "             \n",
    "# ingresamos los datos, con el error aumentado en una cantidad igual a sigma sistematico\n",
    "    \n",
    "    for j in range(len(error)):\n",
    "        newerror = error[j] + sigma_s\n",
    "#        f.write( str(file[j]) + ' ' + '{:11.6f}'.format(freq[j]) + ' ' + str(MJD[j]) + '   ' + '{:5.3f}'.format(newerror) + '  ' + str(telescope[j]))\n",
    "        print( str(file[j]) + ' ' + '{:11.6f}'.format(freq[j]) + ' ' + str(MJD[j]) + '   ' + '{:5.3f}'.format(newerror) + '  ' + str(telescope[j]), file = f)\n",
    "    \n",
    "    f.close()\n",
    "    \n",
    "# llamamos a tempo2\n",
    "    \n",
    "    subprocess.call( \"tempo2 >\" + resfile + \" -us -f J0437-4715.par \" + timfile, cwd=timing_folder, shell = True)\n",
    "\n",
    "# abrimos el archivo generado por tempo2, donde se encuentra el chicuadrado que buscamos\n",
    "\n",
    "    chi_sqr_red = np.genfromtxt ( timing_folder + resfile, comments=\"none\", dtype=float, skip_header=19, max_rows=1, usecols=(8) )\n",
    "\n",
    "# devolvemos la informacion al programa principal\n",
    "\n",
    "    return chi_sqr_red"
   ]
  },
  {
   "cell_type": "code",
   "execution_count": 52,
   "metadata": {},
   "outputs": [
    {
     "name": "stdout",
     "output_type": "stream",
     "text": [
      "xmin = 0.0\n",
      "xmax = 1.0\n",
      "step = 0.1\n",
      "tol = 0.0001\n",
      "sn = 80\n"
     ]
    }
   ],
   "source": [
    "# leemos los parámetros del archivo de entrada\n",
    "\n",
    "xmin = np.genfromtxt(\"interval.txt\", comments=\"none\", dtype=float, skip_header=0, max_rows=1, usecols=(2) )\n",
    "xmax = np.genfromtxt(\"interval.txt\", comments=\"none\", dtype=float, skip_header=1, max_rows=1, usecols=(2) )\n",
    "step = np.genfromtxt(\"interval.txt\", comments=\"none\", dtype=float, skip_header=2, max_rows=1, usecols=(2) )\n",
    "tol = np.genfromtxt(\"interval.txt\", comments=\"none\", dtype=float, skip_header=3, max_rows=1, usecols=(2) )\n",
    "sn = np.genfromtxt(\"interval.txt\", comments=\"none\", dtype=int, skip_header=4, max_rows=1, usecols=(2) )\n",
    "\n",
    "print(\"xmin = \" + str(xmin))\n",
    "print(\"xmax = \" + str(xmax))\n",
    "print(\"step = \" + str(step))\n",
    "print(\"tol = \" + str(tol))\n",
    "print(\"sn = \" + str(sn))\n",
    "\n",
    "a = num_after_point(step)           # número de decimales en el paso\n",
    "xmin_int = int( xmin * (10 ** a) )  # límite inferior entero del intervalo\n",
    "xmax_int = int( xmax * (10 ** a) )  # límite superior entero del intervalo\n",
    "step_int = int( step * (10 ** a) )  # paso entero\n",
    "\n",
    "n = int( (xmax_int-xmin_int)/step_int ) # numero de subintervalos\n",
    "\n",
    "# creamos un array para que guarde los sigma sistematicos de prueba y otro para los chi_sqr\n",
    "\n",
    "trial_sigma = np.empty(n)\n",
    "chi_sqr = np.empty(n)"
   ]
  },
  {
   "cell_type": "code",
   "execution_count": 53,
   "metadata": {
    "scrolled": false
   },
   "outputs": [],
   "source": [
    "# leemos los errores en el TOA del archivo .tim generado por pat\n",
    "\n",
    "timfile = \"./timing_files/timing_\" + str(sn) + \".tim\"\n",
    "\n",
    "file = np.loadtxt( timfile , skiprows=1 , dtype=str , usecols=(0) )\n",
    "freq = np.loadtxt( timfile, skiprows=1, dtype=float , usecols=(1) )\n",
    "MJD = np.loadtxt( timfile , skiprows=1 , dtype=decimal.Decimal , usecols=(2) )\n",
    "error = np.loadtxt( timfile , skiprows=1 , dtype=float,  usecols=(3) )\n",
    "telescope = np.loadtxt( timfile, skiprows=1, dtype=str, usecols=(4) )\n",
    "\n",
    "#print(file)\n",
    "#for i in range(0, len(error)):\n",
    "#    print(file[i], freq[i], MJD[i], error[i], telescope[i])"
   ]
  },
  {
   "cell_type": "code",
   "execution_count": 54,
   "metadata": {
    "scrolled": true
   },
   "outputs": [
    {
     "name": "stdout",
     "output_type": "stream",
     "text": [
      "0.0 11.6526\n",
      "0.1 4.99658\n",
      "0.2 2.81753\n",
      "0.3 1.816\n",
      "0.4 1.2701\n",
      "0.5 0.939025\n",
      "0.6 0.722837\n",
      "0.7 0.573776\n",
      "0.8 0.466606\n",
      "0.9 0.386949\n",
      "el chi_sqr mas cercano a 1 es: 0.939025\n",
      "el correspondiente sigma_s es: 0.5\n",
      "0.4 1.2701\n",
      "0.41 1.22962\n",
      "0.42 1.19107\n",
      "0.43 1.15431\n",
      "0.44 1.11924\n",
      "0.45 1.08575\n",
      "0.46 1.05376\n",
      "0.47 1.02316\n",
      "0.48 0.993895\n",
      "0.49 0.965872\n",
      "el chi_sqr mas cercano a 1 es: 0.993895\n",
      "el correspondiente sigma_s es: 0.48\n",
      "0.47 1.02316\n",
      "0.471 1.02018\n",
      "0.472 1.01721\n",
      "0.473 1.01425\n",
      "0.474 1.0113\n",
      "0.475 1.00837\n",
      "0.476 1.00545\n",
      "0.477 1.00254\n",
      "0.478 0.999647\n",
      "0.479 0.996765\n",
      "el chi_sqr mas cercano a 1 es: 0.999647\n",
      "el correspondiente sigma_s es: 0.478\n"
     ]
    }
   ],
   "source": [
    "# Set-up a period grid with values separated by 0.1 µs between 0 and 1\n",
    "\n",
    "output = open(\"sigmasis_50.dat\", \"w\")                                    # abrimos un archivo de salida\n",
    "\n",
    "while step > 0.0001:\n",
    "\n",
    "    i = 0\n",
    "    for x in range(xmin_int, xmax_int, step_int):\n",
    "\n",
    "        sigma_s = float(x)/ (10. ** a)      # sigma sistematico    \n",
    "\n",
    "# guardamos la informacion\n",
    "\n",
    "        trial_sigma[i] = sigma_s\n",
    "        chi_sqr[i] = chissqr(sigma_s)\n",
    "    \n",
    "        print( str(trial_sigma[i]) + ' ' + str(chi_sqr[i]) )                   # escribimos por pantalla  \n",
    "        output.write( str(trial_sigma[i]) + ' ' + str(chi_sqr[i]) )           # escribimos en el archivo de salida\n",
    "    \n",
    "        i += 1\n",
    "\n",
    "# Creamos un nuevo array que sea la diferencia entre los chi_sqr obtenidos y 1\n",
    "# y buscamos el chi cuadrado más cercano a uno y el correspondiente sigma\n",
    "\n",
    "    diff_chi_sqr = abs ( chi_sqr - 1. )                   # creamos un array que sea la diferencia entre los chi y 1\n",
    "    closer_chi = chi_sqr[ np.argmin(diff_chi_sqr)]        # hallamos el chi cuadrado más cercano a 1\n",
    "    closer_sigma = trial_sigma[ np.argmin(diff_chi_sqr) ] # hallamos el correspondiente sigma \n",
    "    \n",
    "# creamos un nuevo intervalo más acotado donde buscar el sigma sistematico\n",
    "\n",
    "        \n",
    "    if closer_chi < 1.0:\n",
    "        xmax = closer_sigma\n",
    "        xmin = closer_sigma - step\n",
    "    elif closer_chi > 1.0:\n",
    "        xmax = closer_sigma + step\n",
    "        xmin = closer_sigma\n",
    "    else:\n",
    "        print(\"end of iterations\")\n",
    "        print(\"el chi_sqr mas cercano a 1 es: \" + str( closer_chi ) )\n",
    "        print(\"el correspondiente sigma_s es: \" + str( closer_sigma ) )\n",
    "        exit()        \n",
    "    \n",
    "    step = step / 10.0\n",
    "    \n",
    "    a = num_after_point(step)           # número de decimales en el paso\n",
    "    xmin_int = int( xmin * (10 ** a) )  # límite inferior entero del intervalo\n",
    "    xmax_int = int( xmax * (10 ** a) )  # límite superior entero del intervalo\n",
    "    step_int = int( step * (10 ** a) )  # paso entero\n",
    "\n",
    "    n = int( (xmax_int-xmin_int)/step_int ) # numero de subintervalos\n",
    "\n",
    "# creamos un array para que guarde los sigma sistematicos de prueba y otro para los chi_sqr\n",
    "\n",
    "    trial_sigma.resize(n)\n",
    "    chi_sqr.resize(n)\n",
    "    \n",
    "# Hallamos el máximo chi_sqr mas cercano a 1 y el correspondiente sigma sistematico\n",
    "\n",
    "    print(\"el chi_sqr mas cercano a 1 es: \" + str( closer_chi ) )\n",
    "    print(\"el correspondiente sigma_s es: \" + str( closer_sigma ) )"
   ]
  },
  {
   "cell_type": "code",
   "execution_count": null,
   "metadata": {
    "collapsed": true
   },
   "outputs": [],
   "source": []
  }
 ],
 "metadata": {
  "kernelspec": {
   "display_name": "Python 3",
   "language": "python",
   "name": "python3"
  },
  "language_info": {
   "codemirror_mode": {
    "name": "ipython",
    "version": 3
   },
   "file_extension": ".py",
   "mimetype": "text/x-python",
   "name": "python",
   "nbconvert_exporter": "python",
   "pygments_lexer": "ipython3",
   "version": "3.6.2"
  }
 },
 "nbformat": 4,
 "nbformat_minor": 4
}
