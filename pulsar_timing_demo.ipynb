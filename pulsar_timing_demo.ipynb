{
 "cells": [
  {
   "cell_type": "code",
   "execution_count": 8,
   "metadata": {
    "collapsed": true
   },
   "outputs": [],
   "source": [
    "from __future__ import division\n",
    "import numpy as np\n",
    "import matplotlib.pyplot as plt\n",
    "import libstempo as t2\n",
    "from statsmodels.graphics import tsaplots\n",
    "\n",
    "# Ejemplo: https://github.com/vallis/libstempo/blob/master/demo/libstempo-demo.ipynb"
   ]
  },
  {
   "cell_type": "code",
   "execution_count": 9,
   "metadata": {},
   "outputs": [],
   "source": [
    "# We load a single-pulsar object.\n",
    "# Doing this will automatically run the tempo2 fit routine once.\n",
    "\n",
    "psr = t2.tempopulsar('./partim/J0437-4715.par', \n",
    "                     './partim/J0437-4715.tim')"
   ]
  },
  {
   "cell_type": "code",
   "execution_count": 21,
   "metadata": {},
   "outputs": [
    {
     "name": "stdout",
     "output_type": "stream",
     "text": [
      "23\n",
      "[ 58654.611  58630.694  58738.36  58674.546  58655.607  58609.739\n",
      "  58694.512  58604.747  58702.477  58794.235  58679.551  58663.596\n",
      "  58736.375  58645.636  58616.714  58822.16  58746.372  58662.596  58614.72\n",
      "  58743.371  58657.621  58639.639  58747.368]\n"
     ]
    }
   ],
   "source": [
    "print(psr.nobs)\n",
    "print(psr.toas())"
   ]
  },
  {
   "cell_type": "code",
   "execution_count": 27,
   "metadata": {},
   "outputs": [
    {
     "name": "stdout",
     "output_type": "stream",
     "text": [
      "[[ 1.]\n",
      " [ 1.]\n",
      " [ 1.]\n",
      " [ 1.]\n",
      " [ 1.]\n",
      " [ 1.]\n",
      " [ 1.]\n",
      " [ 1.]\n",
      " [ 1.]\n",
      " [ 1.]\n",
      " [ 1.]\n",
      " [ 1.]\n",
      " [ 1.]\n",
      " [ 1.]\n",
      " [ 1.]\n",
      " [ 1.]\n",
      " [ 1.]\n",
      " [ 1.]\n",
      " [ 1.]\n",
      " [ 1.]\n",
      " [ 1.]\n",
      " [ 1.]\n",
      " [ 1.]]\n"
     ]
    }
   ],
   "source": [
    "# designmatrix(...) returns the design matrix [nobs x (ndim+1)] as a numpy.longdouble\n",
    "# array for current fit-parameter values.\n",
    "\n",
    "M = psr.designmatrix()\n",
    "\n",
    "print(M)"
   ]
  },
  {
   "cell_type": "code",
   "execution_count": null,
   "metadata": {
    "collapsed": true
   },
   "outputs": [],
   "source": [
    "# A cada columna de la matriz de diseño\n",
    "# le restamos el valor medio de los elementos de esa columa\n",
    "\n",
    "M -= np.mean(M, axis=0)\n",
    "\n",
    "# A cada columna de la matriz de diseño\n",
    "# la dividimos por la desviación estándar de esa matriz\n",
    "\n",
    "M /= np.std(M, axis=0)"
   ]
  }
 ],
 "metadata": {
  "kernelspec": {
   "display_name": "Python 3",
   "language": "python",
   "name": "python3"
  },
  "language_info": {
   "codemirror_mode": {
    "name": "ipython",
    "version": 3
   },
   "file_extension": ".py",
   "mimetype": "text/x-python",
   "name": "python",
   "nbconvert_exporter": "python",
   "pygments_lexer": "ipython3",
   "version": "3.6.2"
  }
 },
 "nbformat": 4,
 "nbformat_minor": 2
}
