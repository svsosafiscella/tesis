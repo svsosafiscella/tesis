{
 "cells": [
  {
   "cell_type": "code",
   "execution_count": 1,
   "metadata": {
    "collapsed": true
   },
   "outputs": [],
   "source": [
    "#-----------------------------------------\n",
    "# importamos los paquetes que vamos a usar\n",
    "#-----------------------------------------\n",
    "\n",
    "import os\n",
    "import shutil\n",
    "import numpy as np\n",
    "import glob                         # para hacer listas de archivo\n",
    "import subprocess                   # para usar subprocesos"
   ]
  },
  {
   "cell_type": "code",
   "execution_count": 5,
   "metadata": {},
   "outputs": [],
   "source": [
    "#----------------------------------------------------------------------------\n",
    "# Partimos de un conjunto de observaciones mezcladas\n",
    "# y nos quedamos con los .pfds de nchan=64\n",
    "#----------------------------------------------------------------------------\n",
    "\n",
    "# creamos una lista con todos los archivos .pfd\n",
    "\n",
    "ant = 'A2'                                                # antena usada (A1 o A2)\n",
    "\n",
    "timing_folder = './' + str(ant) + '/'\n",
    "pfd_files_total = glob.glob(timing_folder+'*pfd')         # lista de archivos .pfd\n",
    "output = \"output.dat\"                                     # nombre del archivo de salida del cual vamos leyendo los headers\n",
    "\n",
    "# para cada archvio .pfd, generamos un archivo con su header y leemos su nbins y su nchan\n",
    "\n",
    "n=0\n",
    "pfd_files_64 = []\n",
    "\n",
    "for pfd in pfd_files_total:\n",
    "    \n",
    "    subprocess.call( \"psrstat >\" + output + \" \" + pfd , shell=True )\n",
    "    n_chan = np.genfromtxt ( output, comments=\"none\", dtype=int, skip_header=2, max_rows=1, usecols=(5) )\n",
    "\n",
    "\n",
    "    if n_chan==64:                                  # si el .pfd tiene nchan=64           \n",
    "        pfd_files_64.append(pfd)                    # entonces lo guardamos en la lista\n",
    "        n += 1                              "
   ]
  },
  {
   "cell_type": "code",
   "execution_count": 7,
   "metadata": {
    "collapsed": true
   },
   "outputs": [],
   "source": [
    "#------------------------------------------------------------------------\n",
    "# Esto es para mover las observaciones con nbins=1024 a una nueva carpeta\n",
    "#------------------------------------------------------------------------\n",
    "\n",
    "for i in range(len(pfd_files_64)):\n",
    "     shutil.move(pfd_files_64[i], \"./\")\n",
    "#    subprocess.call([\"cp\", pfd_files[i], \"/A2_1024\"])\n",
    "#    shutil.copyfile(pfd_files[i], \"/A2_1024\"\", *, follow_symlinks=True)\n",
    "#    os.system( \"cp \" + pfd_files[i] + \" /A2_1024\" , shell=True )"
   ]
  },
  {
   "cell_type": "code",
   "execution_count": 16,
   "metadata": {
    "collapsed": true
   },
   "outputs": [],
   "source": [
    "#--------------------------------------------------------\n",
    "# Ahora trabajamos con los .pfds de nchan=64,32,16,8,...\n",
    "#--------------------------------------------------------\n",
    "\n",
    "ant = 'A2'                                                 # antena usada (A1 o A2)\n",
    "nchan = 4                                                 # numero de bines en fase\n",
    "\n",
    "timing_folder = './' + str(ant) + '_nchan' + str(nchan) + '/'\n",
    "pfd_files = glob.glob(timing_folder+'*pfd')               # lista de archivos .pfd\n",
    "\n",
    "#print(pfd_files)"
   ]
  },
  {
   "cell_type": "code",
   "execution_count": 17,
   "metadata": {},
   "outputs": [
    {
     "name": "stdout",
     "output_type": "stream",
     "text": [
      "template = ./templates/template_1024_4_A2.std.sm\n",
      "timing file = timing_nchan4_A2.tim\n"
     ]
    },
    {
     "data": {
      "text/plain": [
       "0"
      ]
     },
     "execution_count": 17,
     "metadata": {},
     "output_type": "execute_result"
    }
   ],
   "source": [
    "#-----------------------------------------\n",
    "# generamos los TOAs (el archivo .tim)\n",
    "#-----------------------------------------\n",
    "\n",
    "template = \"./templates/template_1024_\" + str(nchan) + \"_\" + str(ant) + \".std.sm\"  # nombre del template\n",
    "timing_file = \"timing_nchan\" + str(nchan) + \"_\" + str(ant) + \".tim\"       # nombre del archivo .tim\n",
    "\n",
    "print(\"template = \" + str(template) )\n",
    "print(\"timing file = \" + str(timing_file) )\n",
    "\n",
    "# primero, generamos un string que contenga todos los archivos .pfd\n",
    "\n",
    "archivos = ''\n",
    "for pfd in pfd_files:\n",
    "    archivos = archivos + pfd + ' '\n",
    "       \n",
    "# ahora llamamos a pat para generar el archivo .tim\n",
    "\n",
    "subprocess.call( \"pat -FT -A PGS -s \" + template + \" -f >\" + timing_file + \" 'tempo2' \" + archivos , shell=True )"
   ]
  },
  {
   "cell_type": "code",
   "execution_count": 48,
   "metadata": {},
   "outputs": [
    {
     "data": {
      "text/plain": [
       "0"
      ]
     },
     "execution_count": 48,
     "metadata": {},
     "output_type": "execute_result"
    }
   ],
   "source": [
    "#--------------------------------------------\n",
    "# En caso de trabajar con observaciones de A1\n",
    "#--------------------------------------------\n",
    "\n",
    "subprocess.call( \"sed -i -e 's/1414.8750/1414.4375/g' \" + timing_file , shell=True )"
   ]
  },
  {
   "cell_type": "code",
   "execution_count": 7,
   "metadata": {},
   "outputs": [
    {
     "name": "stdout",
     "output_type": "stream",
     "text": [
      "RMS = 0.691\n"
     ]
    }
   ],
   "source": [
    "#-----------------------------------------\n",
    "# calculamos el rms usando tempo2\n",
    "#-----------------------------------------\n",
    "\n",
    "residue_file = \"residues_\" + str(nchan) + \"_\" + str(ant) + \".dat\"   # nombre del archivo de los residuos\n",
    "\n",
    "subprocess.call( \"tempo2 >\" + residue_file + \" -us -f J0437-4715.par \" + timing_file , shell=True)\n",
    "\n",
    "# abrimos el archivo generado por tempo2, donde se encuentra el RMS que buscamos\n",
    "\n",
    "RMS = np.genfromtxt ( residue_file, comments=\"none\", dtype=float, skip_header=18, max_rows=1, usecols=(10) )\n",
    "\n",
    "print(\"RMS = \" + str(RMS) )"
   ]
  },
  {
   "cell_type": "code",
   "execution_count": null,
   "metadata": {
    "collapsed": true
   },
   "outputs": [],
   "source": []
  }
 ],
 "metadata": {
  "kernelspec": {
   "display_name": "Python 3",
   "language": "python",
   "name": "python3"
  },
  "language_info": {
   "codemirror_mode": {
    "name": "ipython",
    "version": 3
   },
   "file_extension": ".py",
   "mimetype": "text/x-python",
   "name": "python",
   "nbconvert_exporter": "python",
   "pygments_lexer": "ipython3",
   "version": "3.6.2"
  }
 },
 "nbformat": 4,
 "nbformat_minor": 4
}
