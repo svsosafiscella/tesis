{
 "cells": [
  {
   "cell_type": "code",
   "execution_count": 15,
   "metadata": {
    "collapsed": true
   },
   "outputs": [],
   "source": [
    "import pypulse as pulsar\n",
    "import matplotlib.pyplot as plt\n",
    "import numpy as np\n",
    "import glob\n",
    "import subprocess\n",
    "from IPython.display import Image"
   ]
  },
  {
   "cell_type": "code",
   "execution_count": 19,
   "metadata": {},
   "outputs": [
    {
     "name": "stdout",
     "output_type": "stream",
     "text": [
      "Loading: ./A1/prepfold_20190608_112623_PSR_0437-4715.pfd\n",
      "Load time: 1.77 s\n",
      "Loading: ./A1/prepfold_20190513_132715_PSR_0437-4715.pfd\n",
      "Load time: 1.61 s\n",
      "Loading: ./A1/prepfold_20190502_140217_PSR_0437-4715.pfd\n",
      "Load time: 1.62 s\n",
      "Loading: ./A1/prepfold_20190503_144606_PSR_0437-4715.pfd\n",
      "Load time: 1.64 s\n",
      "Loading: ./A1/prepfold_20190514_122258_PSR_0437-4715.pfd\n",
      "Load time: 1.66 s\n",
      "Loading: ./A1/prepfold_20190503_131318_PSR_0437-4715.pfd\n",
      "Load time: 1.62 s\n",
      "Loading: ./A1/prepfold_20190512_134505_PSR_0437-4715.pfd\n",
      "Load time: 1.58 s\n",
      "Loading: ./A1/prepfold_20190507_163758_PSR_0437-4715.pfd\n",
      "Load time: 1.66 s\n",
      "Loading: ./A1/prepfold_20190511_124502_PSR_0437-4715.pfd\n",
      "Load time: 1.70 s\n",
      "Loading: ./A1/prepfold_20190510_144844_PSR_0437-4715.pfd\n",
      "Load time: 1.70 s\n",
      "Loading: ./A1/prepfold_20190512_122722_PSR_0437-4715.pfd\n",
      "Load time: 1.62 s\n",
      "Loading: ./A1/prepfold_20190518_120518_PSR_0437-4715.pfd\n",
      "Load time: 1.63 s\n",
      "Loading: ./A1/prepfold_20190520_115652_PSR_0437-4715.pfd\n",
      "Load time: 1.78 s\n",
      "Loading: ./A1/prepfold_20190517_134954_PSR_0437-4715.pfd\n",
      "Load time: 6.75 s\n",
      "Loading: ./A1/prepfold_20190429_132143_PSR_0437-4715.pfd\n",
      "Load time: 3.34 s\n",
      "Loading: ./A1/prepfold_20190430_141435_PSR_0437-4715.pfd\n",
      "Load time: 3.43 s\n",
      "Loading: ./A1/prepfold_20190519_124053_PSR_0437-4715.pfd\n",
      "Load time: 3.47 s\n",
      "Loading: ./A1/prepfold_20190608_104304_PSR_0437-4715.pfd\n",
      "Load time: 6.57 s\n"
     ]
    }
   ],
   "source": [
    "#-----------------------------------------\n",
    "# nos quedamos con los .pfds de nbin=1024 y nchan=128\n",
    "#-----------------------------------------\n",
    "\n",
    "# creamos una lista con todos los archivos .pfd\n",
    "\n",
    "timing_folder = './A1/'\n",
    "psrfits_files = glob.glob(timing_folder+'*pfd')          # lista de archivos .pfd\n",
    "output = \"output.dat\"                                    # nombre del archivo de salida del cual vamos leyendo los headers\n",
    "\n",
    "# para cada archvio .pfd, generamos un archivo con su header y leemos su nbins y su nchan\n",
    "\n",
    "pfds_1024_128= []\n",
    "psrfits_files_128= []\n",
    "\n",
    "for psrfits in psrfits_files:\n",
    "    \n",
    "    subprocess.call( \"psrstat >\" + output + \" \" + psrfits , shell=True )\n",
    "    \n",
    "    n_bins = np.genfromtxt ( output, comments=\"none\", dtype=int, skip_header=1, max_rows=1, usecols=(6) )\n",
    "    n_chan = np.genfromtxt ( output, comments=\"none\", dtype=int, skip_header=2, max_rows=1, usecols=(5) )\n",
    "    \n",
    "    if n_bins==1024:\n",
    "        if n_chan==128:\n",
    "            \n",
    "            temp_pypulse = pulsar.Archive(psrfits)\n",
    "            pfds_1024_128.append(temp_pypulse)\n",
    "            psrfits_files_128.append(psrfits)"
   ]
  },
  {
   "cell_type": "code",
   "execution_count": 20,
   "metadata": {},
   "outputs": [
    {
     "name": "stdout",
     "output_type": "stream",
     "text": [
      "{'./A1/prepfold_20190608_112623_PSR_0437-4715.pfd': Archive('./A1/prepfold_20190608_112623_PSR_0437-4715.pfd', prepare=True, lowmem=False, verbose=True), './A1/prepfold_20190513_132715_PSR_0437-4715.pfd': Archive('./A1/prepfold_20190513_132715_PSR_0437-4715.pfd', prepare=True, lowmem=False, verbose=True), './A1/prepfold_20190502_140217_PSR_0437-4715.pfd': Archive('./A1/prepfold_20190502_140217_PSR_0437-4715.pfd', prepare=True, lowmem=False, verbose=True), './A1/prepfold_20190503_144606_PSR_0437-4715.pfd': Archive('./A1/prepfold_20190503_144606_PSR_0437-4715.pfd', prepare=True, lowmem=False, verbose=True), './A1/prepfold_20190514_122258_PSR_0437-4715.pfd': Archive('./A1/prepfold_20190514_122258_PSR_0437-4715.pfd', prepare=True, lowmem=False, verbose=True), './A1/prepfold_20190503_131318_PSR_0437-4715.pfd': Archive('./A1/prepfold_20190503_131318_PSR_0437-4715.pfd', prepare=True, lowmem=False, verbose=True), './A1/prepfold_20190512_134505_PSR_0437-4715.pfd': Archive('./A1/prepfold_20190512_134505_PSR_0437-4715.pfd', prepare=True, lowmem=False, verbose=True), './A1/prepfold_20190507_163758_PSR_0437-4715.pfd': Archive('./A1/prepfold_20190507_163758_PSR_0437-4715.pfd', prepare=True, lowmem=False, verbose=True), './A1/prepfold_20190511_124502_PSR_0437-4715.pfd': Archive('./A1/prepfold_20190511_124502_PSR_0437-4715.pfd', prepare=True, lowmem=False, verbose=True), './A1/prepfold_20190510_144844_PSR_0437-4715.pfd': Archive('./A1/prepfold_20190510_144844_PSR_0437-4715.pfd', prepare=True, lowmem=False, verbose=True), './A1/prepfold_20190512_122722_PSR_0437-4715.pfd': Archive('./A1/prepfold_20190512_122722_PSR_0437-4715.pfd', prepare=True, lowmem=False, verbose=True), './A1/prepfold_20190518_120518_PSR_0437-4715.pfd': Archive('./A1/prepfold_20190518_120518_PSR_0437-4715.pfd', prepare=True, lowmem=False, verbose=True), './A1/prepfold_20190520_115652_PSR_0437-4715.pfd': Archive('./A1/prepfold_20190520_115652_PSR_0437-4715.pfd', prepare=True, lowmem=False, verbose=True), './A1/prepfold_20190517_134954_PSR_0437-4715.pfd': Archive('./A1/prepfold_20190517_134954_PSR_0437-4715.pfd', prepare=True, lowmem=False, verbose=True), './A1/prepfold_20190429_132143_PSR_0437-4715.pfd': Archive('./A1/prepfold_20190429_132143_PSR_0437-4715.pfd', prepare=True, lowmem=False, verbose=True), './A1/prepfold_20190430_141435_PSR_0437-4715.pfd': Archive('./A1/prepfold_20190430_141435_PSR_0437-4715.pfd', prepare=True, lowmem=False, verbose=True), './A1/prepfold_20190519_124053_PSR_0437-4715.pfd': Archive('./A1/prepfold_20190519_124053_PSR_0437-4715.pfd', prepare=True, lowmem=False, verbose=True), './A1/prepfold_20190608_104304_PSR_0437-4715.pfd': Archive('./A1/prepfold_20190608_104304_PSR_0437-4715.pfd', prepare=True, lowmem=False, verbose=True)}\n"
     ]
    }
   ],
   "source": [
    "observations = dict(zip(psrfits_files_128, pfds_1024_128))\n",
    "\n",
    "print(observations)"
   ]
  },
  {
   "cell_type": "code",
   "execution_count": 22,
   "metadata": {},
   "outputs": [],
   "source": [
    "# Create single pulse object\n",
    "# Creat array of best profiles\n",
    "\n",
    "single_pulses=[]\n",
    "\n",
    "for observation in pfds_1024_128:\n",
    "    \n",
    "    # First crunch in time and frequency\n",
    "    observation.fscrunch()\n",
    "    observation.tscrunch()\n",
    "    \n",
    "    # Now get array of the best profile\n",
    "    tmp_singlepulse = observation.getSinglePulses(windowsize=256)\n",
    "    \n",
    "    # Align and normalize\n",
    "    tmp_singlepulse.center_align()\n",
    "    tmp_singlepulse.normalize()\n",
    "    \n",
    "    # Save aligned and normalize in each observation\n",
    "    single_pulses.append(tmp_singlepulse)\n",
    "    \n",
    "# Save single pulse object\n",
    "sp_observations = dict(zip(psrfits_files_128, single_pulses))"
   ]
  },
  {
   "cell_type": "code",
   "execution_count": 23,
   "metadata": {},
   "outputs": [
    {
     "data": {
      "image/png": "[encoded data removed]",
      "text/plain": [
       "<matplotlib.figure.Figure at 0x7fa3fbe9c048>"
      ]
     },
     "metadata": {},
     "output_type": "display_data"
    }
   ],
   "source": [
    "# Plot SN vs duration\n",
    "\n",
    "duration=[]\n",
    "\n",
    "allsn = []\n",
    "\n",
    "for key in observations:\n",
    "    time = (observations[key].getDuration())/60\n",
    "    sn = sp_observations[key].getSN()\n",
    "    bins = observations[key].getNbin()\n",
    "    duration.append(time)\n",
    "    allsn.append(sn)\n",
    "    \n",
    "plt.close()\n",
    "plt.scatter(duration, allsn)\n",
    "plt.title('S/N vs Duration')\n",
    "plt.xlabel('Duration (minutes)')\n",
    "plt.ylabel('S/N')\n",
    "plt.show()"
   ]
  },
  {
   "cell_type": "code",
   "execution_count": 24,
   "metadata": {},
   "outputs": [
    {
     "name": "stdout",
     "output_type": "stream",
     "text": [
      "./A1/prepfold_20190514_122258_PSR_0437-4715.pfd\n",
      "192.724324497\n"
     ]
    }
   ],
   "source": [
    "# Let us make a template with the best observation\n",
    "\n",
    "# Take the best SN observation (super inefficient but still fast)\n",
    "\n",
    "sn_max = np.max(allsn)\n",
    "for key in observations:\n",
    "    if sp_observations[key].getSN() == sn_max:\n",
    "        template_obs = key\n",
    "        \n",
    "print(template_obs)\n",
    "print(sn_max)"
   ]
  },
  {
   "cell_type": "code",
   "execution_count": 25,
   "metadata": {},
   "outputs": [
    {
     "name": "stderr",
     "output_type": "stream",
     "text": [
      "/opt/conda/lib/python3.6/site-packages/PyPulse-0.1-py3.6.egg/pypulse/utils.py:549: RuntimeWarning: overflow encountered in exp\n",
      "  y = np.exp(numer - denom)\n",
      "/opt/conda/lib/python3.6/site-packages/PyPulse-0.1-py3.6.egg/pypulse/utils.py:552: RuntimeWarning: invalid value encountered in true_divide\n",
      "  y /= np.max(np.abs(y))\n"
     ]
    },
    {
     "data": {
      "image/png": "[encoded data removed]",
      "text/plain": [
       "<matplotlib.figure.Figure at 0x7fa3fbd81cf8>"
      ]
     },
     "metadata": {},
     "output_type": "display_data"
    },
    {
     "data": {
      "image/png": "[encoded data removed]",
      "text/plain": [
       "<matplotlib.figure.Figure at 0x7fa3fb7dda58>"
      ]
     },
     "metadata": {},
     "output_type": "display_data"
    }
   ],
   "source": [
    "# Make the template\n",
    "template_sp = observations[template_obs].getSinglePulses(windowsize=32)\n",
    "template_sp.center_align()\n",
    "template_sp.normalize()\n",
    "template = template_sp.vonMises_smoothing(nmax=30)\n",
    "\n",
    "# Check template\n",
    "plt.close()\n",
    "plt.plot(template)\n",
    "template_sp.plot()\n",
    "plt.show()"
   ]
  },
  {
   "cell_type": "code",
   "execution_count": null,
   "metadata": {
    "collapsed": true
   },
   "outputs": [],
   "source": []
  }
 ],
 "metadata": {
  "kernelspec": {
   "display_name": "Python 3",
   "language": "python",
   "name": "python3"
  },
  "language_info": {
   "codemirror_mode": {
    "name": "ipython",
    "version": 3
   },
   "file_extension": ".py",
   "mimetype": "text/x-python",
   "name": "python",
   "nbconvert_exporter": "python",
   "pygments_lexer": "ipython3",
   "version": "3.6.2"
  }
 },
 "nbformat": 4,
 "nbformat_minor": 2
}
