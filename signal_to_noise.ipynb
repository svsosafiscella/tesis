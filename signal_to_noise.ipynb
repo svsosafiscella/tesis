{
 "cells": [
  {
   "cell_type": "code",
   "execution_count": 14,
   "metadata": {
    "collapsed": true
   },
   "outputs": [],
   "source": [
    "import pypulse as pulsar\n",
    "import matplotlib.pyplot as plt\n",
    "import numpy as np\n",
    "import glob\n",
    "import subprocess\n",
    "from IPython.display import Image"
   ]
  },
  {
   "cell_type": "code",
   "execution_count": 15,
   "metadata": {},
   "outputs": [
    {
     "name": "stdout",
     "output_type": "stream",
     "text": [
      "['template_1024_A2.std.sm']\n"
     ]
    }
   ],
   "source": [
    "# Load all PFD files in folder\n",
    "#ant = 'A2'                                               # antena usada (A1 o A2)\n",
    "#timing_folder = './' + str(ant) + '/'\n",
    "#pfd_files = glob.glob(timing_folder+'*pfd')\n",
    "\n",
    "timing_folder = ''\n",
    "pfd_files = glob.glob(timing_folder+'*sm')\n",
    "print(pfd_files)"
   ]
  },
  {
   "cell_type": "code",
   "execution_count": 16,
   "metadata": {},
   "outputs": [
    {
     "name": "stdout",
     "output_type": "stream",
     "text": [
      "Loading: template_1024_A2.std.fits\n",
      "Load time: 0.82 s\n"
     ]
    }
   ],
   "source": [
    "# Convert PFD files to PSRFITS\n",
    "for pfd in pfd_files:\n",
    "    subprocess.check_call(['psrconv','-o','PSRFITS','-e','fits',pfd])\n",
    "\n",
    "# Save all PSRFITS files\n",
    "psrfits_files = glob.glob(timing_folder+'*fits')\n",
    "\n",
    "# Load all PSRFITS into PyPulse\n",
    "fits_pypulse= []\n",
    "for psrfits in psrfits_files:\n",
    "    temp_pypulse= pulsar.Archive(psrfits)\n",
    "    fits_pypulse.append(temp_pypulse)\n",
    "\n",
    "observations = dict(zip(psrfits_files, fits_pypulse))"
   ]
  },
  {
   "cell_type": "code",
   "execution_count": 17,
   "metadata": {
    "collapsed": true
   },
   "outputs": [],
   "source": [
    "# Create single pulse object\n",
    "# Creat array of best profiles\n",
    "\n",
    "single_pulses=[]\n",
    "\n",
    "for observation in fits_pypulse:\n",
    "    \n",
    "    # First crunch in time and frequency\n",
    "    observation.fscrunch()\n",
    "    observation.tscrunch()\n",
    "    \n",
    "    # Now get array of the best profile\n",
    "    tmp_singlepulse = observation.getSinglePulses(windowsize=256)\n",
    "    \n",
    "    # Align and normalize\n",
    "    tmp_singlepulse.center_align()\n",
    "    tmp_singlepulse.normalize()\n",
    "    \n",
    "    # Save aligned and normalize in each observation\n",
    "    single_pulses.append(tmp_singlepulse)\n",
    "    \n",
    "# Save single pulse object\n",
    "sp_observations = dict(zip(psrfits_files, single_pulses))"
   ]
  },
  {
   "cell_type": "code",
   "execution_count": 21,
   "metadata": {},
   "outputs": [
    {
     "name": "stdout",
     "output_type": "stream",
     "text": [
      "{'template_1024_A2.std.fits': <pypulse.singlepulse.SinglePulse object at 0x7f9023e72908>}\n",
      "311.308781973\n",
      "template_1024_A2.std.fits\n",
      "template_1024_A2.std\n"
     ]
    }
   ],
   "source": [
    "print(sp_observations)\n",
    "\n",
    "for key in observations:\n",
    "    sn = sp_observations[key].getSN()\n",
    "    print(sn)\n",
    "    print(key)\n",
    "    file = key.replace(\".fits\",\"\")\n",
    "    print(file)"
   ]
  },
  {
   "cell_type": "code",
   "execution_count": 19,
   "metadata": {},
   "outputs": [
    {
     "data": {
      "image/png": "[encoded data removed]",
      "text/plain": [
       "<matplotlib.figure.Figure at 0x7fcdbf4cd7b8>"
      ]
     },
     "metadata": {},
     "output_type": "display_data"
    }
   ],
   "source": [
    "# Plot SN vs duration\n",
    "\n",
    "duration=[]\n",
    "\n",
    "allsn = []\n",
    "\n",
    "for key in observations:\n",
    "    time = (observations[key].getDuration())/60\n",
    "    sn = sp_observations[key].getSN()\n",
    "    bins = observations[key].getNbin()\n",
    "    duration.append(time)\n",
    "    allsn.append(sn)\n",
    "    \n",
    "plt.close()\n",
    "plt.scatter(duration, allsn)\n",
    "plt.title('S/N vs Duration')\n",
    "plt.xlabel('Duration (minutes)')\n",
    "plt.ylabel('S/N')\n",
    "plt.show()"
   ]
  },
  {
   "cell_type": "code",
   "execution_count": 20,
   "metadata": {},
   "outputs": [
    {
     "name": "stdout",
     "output_type": "stream",
     "text": [
      "template_1024_A1.std.fits\n",
      "454.260167752\n"
     ]
    }
   ],
   "source": [
    "# Let us make a template with the best observation\n",
    "\n",
    "# Take the best SN observation (super inefficient but still fast)\n",
    "\n",
    "sn_max = np.max(allsn)\n",
    "for key in observations:\n",
    "    if sp_observations[key].getSN() == sn_max:\n",
    "        template_obs = key\n",
    "        \n",
    "print(template_obs)\n",
    "print(sn_max)"
   ]
  },
  {
   "cell_type": "code",
   "execution_count": 21,
   "metadata": {},
   "outputs": [
    {
     "name": "stderr",
     "output_type": "stream",
     "text": [
      "/opt/conda/lib/python3.6/site-packages/PyPulse-0.1-py3.6.egg/pypulse/utils.py:549: RuntimeWarning: overflow encountered in exp\n",
      "  y = np.exp(numer - denom)\n",
      "/opt/conda/lib/python3.6/site-packages/PyPulse-0.1-py3.6.egg/pypulse/utils.py:552: RuntimeWarning: invalid value encountered in true_divide\n",
      "  y /= np.max(np.abs(y))\n"
     ]
    },
    {
     "data": {
      "image/png": "[encoded data removed]",
      "text/plain": [
       "<matplotlib.figure.Figure at 0x7fcdbf5594e0>"
      ]
     },
     "metadata": {},
     "output_type": "display_data"
    },
    {
     "data": {
      "image/png": "[encoded data removed]",
      "text/plain": [
       "<matplotlib.figure.Figure at 0x7fcdbf3cb630>"
      ]
     },
     "metadata": {},
     "output_type": "display_data"
    }
   ],
   "source": [
    "# Make the template\n",
    "template_sp = observations[template_obs].getSinglePulses(windowsize=32)\n",
    "template_sp.center_align()\n",
    "template_sp.normalize()\n",
    "template = template_sp.vonMises_smoothing(nmax=30)\n",
    "\n",
    "# Check template\n",
    "plt.close()\n",
    "plt.plot(template)\n",
    "template_sp.plot()\n",
    "plt.show()"
   ]
  },
  {
   "cell_type": "code",
   "execution_count": 22,
   "metadata": {},
   "outputs": [
    {
     "name": "stdout",
     "output_type": "stream",
     "text": [
      "Loading: template_1024_A2.std.sm\n",
      "Load time: 0.73 s\n"
     ]
    },
    {
     "data": {
      "text/plain": [
       "<pypulse.singlepulse.SinglePulse at 0x7fcdbeb3aa58>"
      ]
     },
     "execution_count": 22,
     "metadata": {},
     "output_type": "execute_result"
    }
   ],
   "source": [
    "# Load second template.\n",
    "old_template = pulsar.Archive('template_1024_A2.std.sm')\n",
    "# Make the template\n",
    "old_template.tscrunch()\n",
    "old_template.fscrunch()\n",
    "# Now get array of the best profile\n",
    "old_data = old_template.getData()\n",
    "# Obtain the single pulse (change windowsize)\n",
    "old_template_sp = pulsar.SinglePulse(old_data, windowsize=256)\n",
    "# Align and normalize\n",
    "old_template_sp.center_align()\n",
    "old_template_sp.normalize()"
   ]
  },
  {
   "cell_type": "code",
   "execution_count": 35,
   "metadata": {
    "collapsed": true
   },
   "outputs": [],
   "source": [
    "# Compare template\n",
    "plt.close()\n",
    "\n",
    "#plt.plot(template)\n",
    "\n",
    "plt.plot(old_template_sp.getData() , label=\"Template A2 nbin=1024\" )\n",
    "plt.plot(template , label=\"Template A1 nbin=1024\")\n",
    "\n",
    "#plt.plot(sp_observations['./A1/prepfold_20190916_220850_PSR_2241-5236.fits'].getData(\n",
    "#plt.show()\n",
    "plt.title('Phase bins vs Intensity')\n",
    "plt.xlabel('Phase Bins')\n",
    "plt.ylabel('Intensity')\n",
    "plt.legend(loc=\"upper right\", fontsize='small')\n",
    "\n",
    "plt.savefig('templates.png' , bbox_inches='tight' , dpi=400)"
   ]
  },
  {
   "cell_type": "code",
   "execution_count": null,
   "metadata": {
    "collapsed": true
   },
   "outputs": [],
   "source": []
  }
 ],
 "metadata": {
  "kernelspec": {
   "display_name": "Python 3",
   "language": "python",
   "name": "python3"
  },
  "language_info": {
   "codemirror_mode": {
    "name": "ipython",
    "version": 3
   },
   "file_extension": ".py",
   "mimetype": "text/x-python",
   "name": "python",
   "nbconvert_exporter": "python",
   "pygments_lexer": "ipython3",
   "version": "3.6.2"
  }
 },
 "nbformat": 4,
 "nbformat_minor": 2
}
