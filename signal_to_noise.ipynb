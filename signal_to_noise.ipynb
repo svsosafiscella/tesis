{
 "cells": [
  {
   "cell_type": "code",
   "execution_count": 4,
   "metadata": {
    "collapsed": true
   },
   "outputs": [],
   "source": [
    "import pypulse as pulsar\n",
    "import matplotlib.pyplot as plt\n",
    "import numpy as np\n",
    "import glob\n",
    "import subprocess\n",
    "from IPython.display import Image"
   ]
  },
  {
   "cell_type": "code",
   "execution_count": 5,
   "metadata": {
    "collapsed": true
   },
   "outputs": [],
   "source": [
    "# Load all PFD files in folder\n",
    "timing_folder = './A1/'\n",
    "pfd_files = glob.glob(timing_folder+'*pfd')"
   ]
  },
  {
   "cell_type": "code",
   "execution_count": 6,
   "metadata": {},
   "outputs": [
    {
     "name": "stdout",
     "output_type": "stream",
     "text": [
      "Loading: ./A1/prepfold_20190520_115652_PSR_0437-4715.fits\n",
      "Load time: 9.62 s\n",
      "Loading: ./A1/ds4096_J0437-4715_A1_20190927_040901_0.00-0.85_PSR_0437-4715.fits\n",
      "Load time: 1.75 s\n",
      "Loading: ./A1/prepfold_20190621_094647_PSR_0437-4715.fits\n",
      "Load time: 1.16 s\n",
      "Loading: ./A1/prepfold_20190903_045245_PSR_0437-4715.fits\n",
      "Load time: 0.81 s\n",
      "Loading: ./A1/prepfold_20190728_073037_PSR_0437-4715.fits\n",
      "Load time: 0.82 s\n",
      "Loading: ./A1/prepfold_20190929_030911_PSR_0437-4715.fits\n",
      "Load time: 0.79 s\n",
      "Loading: ./A1/ds4096_J0437-4715_A1_20190922_041010_0.00-0.90_PSR_0437-4715.fits\n",
      "Load time: 1.71 s\n",
      "Loading: ./A1/ds4096_J0437-4715_A1_20190912_042357_0.00-0.86_PSR_0437-4715.fits\n",
      "Load time: 1.66 s\n",
      "Loading: ./A1/prepfold_20190608_112623_PSR_0437-4715.fits\n",
      "Load time: 1.70 s\n",
      "Loading: ./A1/prepfold_20190623_103438_PSR_0437-4715.fits\n",
      "Load time: 0.81 s\n",
      "Loading: ./A1/prepfold_20190703_094122_PSR_0437-4715.fits\n",
      "Load time: 0.82 s\n",
      "Loading: ./A1/prepfold_20190930_030516_PSR_0437-4715.fits\n",
      "Load time: 0.89 s\n",
      "Loading: ./A1/prepfold_20190610_103229_PSR_0437-4715.fits\n",
      "Load time: 0.79 s\n",
      "Loading: ./A1/prepfold_20190507_163758_PSR_0437-4715.fits\n",
      "Load time: 1.52 s\n",
      "Loading: ./A1/prepfold_20190812_065303_PSR_0437-4715.fits\n",
      "Load time: 0.79 s\n",
      "Loading: ./A1/prepfold_20190620_095239_PSR_0437-4715.fits\n",
      "Load time: 0.79 s\n",
      "Loading: ./A1/prepfold_20190503_131318_PSR_0437-4715.fits\n",
      "Load time: 1.68 s\n",
      "Loading: ./A1/prepfold_20190911_042426_PSR_0437-4715.fits\n",
      "Load time: 0.79 s\n",
      "Loading: ./A1/ds4096_J0437-4715_A1_20191129_234056_0.00-0.90_PSR_0437-4715.fits\n",
      "Load time: 0.98 s\n",
      "Loading: ./A1/prepfold_20190424_141948_PSR_0437-4715.fits\n",
      "Load time: 0.78 s\n",
      "Loading: ./A1/prepfold_20190905_044646_PSR_0437-4715.fits\n",
      "Load time: 0.79 s\n",
      "Loading: ./A1/prepfold_20190428_132538_PSR_0437-4715.fits\n",
      "Load time: 0.78 s\n",
      "Loading: ./A1/prepfold_20190608_121040_PSR_0437-4715.fits\n",
      "Load time: 0.79 s\n",
      "Loading: ./A1/prepfold_20190512_134505_PSR_0437-4715.fits\n",
      "Load time: 1.65 s\n",
      "Loading: ./A1/ds4096_J0437-4715_A1_20191008_023343_0.00-0.54_PSR_0437-4715.fits\n",
      "Load time: 1.63 s\n",
      "Loading: ./A1/prepfold_20191214_011941_PSR_0437-4715.fits\n",
      "Load time: 0.70 s\n",
      "Loading: ./A1/prepfold_20190726_073332_PSR_0437-4715.fits\n",
      "Load time: 0.88 s\n",
      "Loading: ./A1/prepfold_20190731_082243_PSR_0437-4715.fits\n",
      "Load time: 0.81 s\n",
      "Loading: ./A1/ds4096_J0437-4715_A1_20190914_051331_0.00-0.85_PSR_0437-4715.fits\n",
      "Load time: 1.66 s\n",
      "Loading: ./A1/ds4096_J0437-4715_A1_20191007_023739_0.00-0.22_PSR_0437-4715.fits\n",
      "Load time: 1.64 s\n",
      "Loading: ./A1/prepfold_20191216_221032_PSR_0437-4715.fits\n",
      "Load time: 0.51 s\n",
      "Loading: ./A1/ds4096_J0437-4715_A1_20191210_224024_PSR_0437-4715.fits\n",
      "Load time: 0.91 s\n",
      "Loading: ./A1/ds4096_J0437-4715_A1_20190910_042752_0.00-0.86_PSR_0437-4715.fits\n",
      "Load time: 0.49 s\n",
      "Loading: ./A1/ds4096_J0437-4715_A1_20190926_041728_0.00-0.86_PSR_0437-4715.fits\n",
      "Load time: 1.70 s\n",
      "Loading: ./A1/prepfold_20190801_070815_PSR_0437-4715.fits\n",
      "Load time: 0.79 s\n",
      "Loading: ./A1/prepfold_20190909_043117_PSR_0437-4715.fits\n",
      "Load time: 0.79 s\n",
      "Loading: ./A1/prepfold_20190918_041523_PSR_0437-4715.fits\n",
      "Load time: 0.79 s\n",
      "Loading: ./A1/prepfold_20190604_120907_PSR_0437-4715.fits\n",
      "Load time: 0.80 s\n",
      "Loading: ./A1/prepfold_20190517_134954_PSR_0437-4715.fits\n",
      "Load time: 1.53 s\n",
      "Loading: ./A1/prepfold_20190821_073221_PSR_0437-4715.fits\n",
      "Load time: 0.80 s\n",
      "Loading: ./A1/prepfold_20190513_132715_PSR_0437-4715.fits\n",
      "Load time: 1.72 s\n",
      "Loading: ./A1/prepfold_20190607_113515_PSR_0437-4715.fits\n",
      "Load time: 0.80 s\n",
      "Loading: ./A1/prepfold_20190510_144844_PSR_0437-4715.fits\n",
      "Load time: 1.66 s\n",
      "Loading: ./A1/ds4096_J0437-4715_A1_20191204_230545_PSR_0437-4715.fits\n",
      "Load time: 0.89 s\n",
      "Loading: ./A1/ds4096_J0437-4715_A1_20191218_215043_PSR_0437-4715.fits\n",
      "Load time: 0.98 s\n",
      "Loading: ./A1/prepfold_20190924_051752_PSR_0437-4715.fits\n",
      "Load time: 0.89 s\n",
      "Loading: ./A1/prepfold_20190807_065419_PSR_0437-4715.fits\n",
      "Load time: 0.94 s\n",
      "Loading: ./A1/prepfold_20190526_122342_PSR_0437-4715.fits\n",
      "Load time: 0.91 s\n",
      "Loading: ./A1/prepfold_20190503_144606_PSR_0437-4715.fits\n",
      "Load time: 1.74 s\n",
      "Loading: ./A1/ds4096_J0437-4715_A1_20191206_225640_PSR_0437-4715.fits\n",
      "Load time: 0.99 s\n",
      "Loading: ./A1/prepfold_20190427_142426_PSR_0437-4715.fits\n",
      "Load time: 0.87 s\n",
      "Loading: ./A1/prepfold_20190611_103114_PSR_0437-4715.fits\n",
      "Load time: 0.95 s\n",
      "Loading: ./A1/prepfold_20190908_043559_PSR_0437-4715.fits\n",
      "Load time: 0.97 s\n",
      "Loading: ./A1/prepfold_20190802_072122_PSR_0437-4715.fits\n",
      "Load time: 1.20 s\n",
      "Loading: ./A1/prepfold_20190917_040546_PSR_0437-4715.fits\n",
      "Load time: 1.88 s\n",
      "Loading: ./A1/prepfold_20190608_104304_PSR_0437-4715.fits\n",
      "Load time: 4.09 s\n",
      "Loading: ./A1/prepfold_20190527_114859_PSR_0437-4715.fits\n",
      "Load time: 4.09 s\n",
      "Loading: ./A1/ds4096_J0437-4715_A1_20190928_040712_0.00-0.90_PSR_0437-4715.fits\n",
      "Load time: 8.64 s\n",
      "Loading: ./A1/prepfold_20190916_041414_PSR_0437-4715.fits\n",
      "Load time: 14.99 s\n",
      "Loading: ./A1/ds4096_J0437-4715_A1_20190901_050244_0.00-0.87_PSR_0437-4715.fits\n",
      "Load time: 5.62 s\n",
      "Loading: ./A1/prepfold_20190614_101402_PSR_0437-4715.fits\n",
      "Load time: 2.44 s\n",
      "Loading: ./A1/prepfold_20190519_124053_PSR_0437-4715.fits\n",
      "Load time: 13.33 s\n",
      "Loading: ./A1/ds4096_J0437-4715_A1_20190912_042357_0.00-0.05_PSR_0437-4715.fits\n",
      "Load time: 14.05 s\n",
      "Loading: ./A1/ds4096_J0437-4715_A1_20190921_040925_0.00-0.90_PSR_0437-4715.fits\n",
      "Load time: 19.30 s\n",
      "Loading: ./A1/prepfold_20190511_124502_PSR_0437-4715.fits\n",
      "Load time: 16.55 s\n",
      "Loading: ./A1/prepfold_20190718_081658_PSR_0437-4715.fits\n",
      "Load time: 11.04 s\n",
      "Loading: ./A1/prepfold_20190823_074128_PSR_0437-4715.fits\n",
      "Load time: 6.27 s\n",
      "Loading: ./A1/prepfold_20190430_141435_PSR_0437-4715.fits\n",
      "Load time: 10.45 s\n",
      "Loading: ./A1/prepfold_20190606_122012_PSR_0437-4715.fits\n",
      "Load time: 5.58 s\n",
      "Loading: ./A1/prepfold_20190518_120518_PSR_0437-4715.fits\n",
      "Load time: 9.90 s\n",
      "Loading: ./A1/prepfold_20190629_094403_PSR_0437-4715.fits\n",
      "Load time: 22.87 s\n",
      "Loading: ./A1/ds4096_J0437-4715_A1_20191205_225305_PSR_0437-4715.fits\n",
      "Load time: 11.40 s\n",
      "Loading: ./A1/prepfold_20190717_082607_PSR_0437-4715.fits\n",
      "Load time: 16.80 s\n",
      "Loading: ./A1/prepfold_20190424_133649_PSR_0437-4715.fits\n",
      "Load time: 16.82 s\n",
      "Loading: ./A1/prepfold_20190701_092301_PSR_0437-4715.fits\n",
      "Load time: 16.37 s\n",
      "Loading: ./A1/prepfold_20190730_071809_PSR_0437-4715.fits\n",
      "Load time: 9.56 s\n",
      "Loading: ./A1/prepfold_20190925_034438_PSR_0437-4715.fits\n",
      "Load time: 7.43 s\n",
      "Loading: ./A1/ds4096_J0437-4715_A1_20190915_041822_0.00-0.88_PSR_0437-4715.fits\n",
      "Load time: 91.33 s\n",
      "Loading: ./A1/prepfold_20190729_072012_PSR_0437-4715.fits\n",
      "Load time: 8.23 s\n",
      "Loading: ./A1/prepfold_20190727_080342_PSR_0437-4715.fits\n",
      "Load time: 9.25 s\n",
      "Loading: ./A1/prepfold_20190808_070320_PSR_0437-4715.fits\n",
      "Load time: 4.67 s\n",
      "Loading: ./A1/prepfold_20190514_122258_PSR_0437-4715.fits\n",
      "Load time: 9.78 s\n",
      "Loading: ./A1/prepfold_20190622_094737_PSR_0437-4715.fits\n",
      "Load time: 5.82 s\n",
      "Loading: ./A1/prepfold_20190502_140217_PSR_0437-4715.fits\n",
      "Load time: 10.43 s\n",
      "Loading: ./A1/prepfold_20190628_094125_PSR_0437-4715.fits\n",
      "Load time: 5.56 s\n",
      "Loading: ./A1/prepfold_20190707_103608_PSR_0437-4715.fits\n",
      "Load time: 3.75 s\n",
      "Loading: ./A1/prepfold_20190429_132143_PSR_0437-4715.fits\n",
      "Load time: 20.69 s\n",
      "Loading: ./A1/prepfold_20190702_091659_PSR_0437-4715.fits\n",
      "Load time: 14.40 s\n",
      "Loading: ./A1/ds4096_J0437-4715_A1_20190826_060146_0.00-0.70_PSR_0437-4715.fits\n",
      "Load time: 7.93 s\n",
      "Loading: ./A1/prepfold_20190920_041259_PSR_0437-4715.fits\n",
      "Load time: 5.60 s\n",
      "Loading: ./A1/prepfold_20190805_073114_PSR_0437-4715.fits\n",
      "Load time: 14.13 s\n",
      "Loading: ./A1/prepfold_20190715_090635_PSR_0437-4715.fits\n",
      "Load time: 10.31 s\n",
      "Loading: ./A1/ds4096_J0437-4715_A1_20191217_215441_0.83-1.00_PSR_0437-4715.fits\n",
      "Load time: 4.61 s\n",
      "Loading: ./A1/prepfold_20190605_105215_PSR_0437-4715.fits\n",
      "Load time: 9.17 s\n",
      "Loading: ./A1/ds4096_J0437-4715_A1_20190923_041126_0.00-0.70_PSR_0437-4715.fits\n",
      "Load time: 11.64 s\n",
      "Loading: ./A1/prepfold_20190720_090710_PSR_0437-4715.fits\n",
      "Load time: 5.19 s\n",
      "Loading: ./A1/ds4096_J0437-4715_A1_20191207_233707_PSR_0437-4715.fits\n",
      "Load time: 7.65 s\n",
      "Loading: ./A1/prepfold_20190725_074045_PSR_0437-4715.fits\n",
      "Load time: 10.64 s\n",
      "Loading: ./A1/prepfold_20190512_122722_PSR_0437-4715.fits\n",
      "Load time: 16.57 s\n",
      "Loading: ./A1/prepfold_20190913_042927_PSR_0437-4715.fits\n",
      "Load time: 17.65 s\n"
     ]
    }
   ],
   "source": [
    "# Convert PFD files to PSRFITS\n",
    "for pfd in pfd_files:\n",
    "    subprocess.check_call(['psrconv','-o','PSRFITS','-e','fits',pfd])\n",
    "\n",
    "# Save all PSRFITS files\n",
    "psrfits_files = glob.glob(timing_folder+'*fits')\n",
    "\n",
    "# Load all PSRFITS into PyPulse\n",
    "fits_pypulse= []\n",
    "for psrfits in psrfits_files:\n",
    "    temp_pypulse= pulsar.Archive(psrfits)\n",
    "    fits_pypulse.append(temp_pypulse)\n",
    "\n",
    "observations = dict(zip(psrfits_files, fits_pypulse))"
   ]
  },
  {
   "cell_type": "code",
   "execution_count": 8,
   "metadata": {
    "collapsed": true
   },
   "outputs": [],
   "source": [
    "# Create single pulse object\n",
    "# Creat array of best profiles\n",
    "\n",
    "single_pulses=[]\n",
    "\n",
    "for observation in fits_pypulse:\n",
    "    \n",
    "    # First crunch in time and frequency\n",
    "    observation.fscrunch()\n",
    "    observation.tscrunch()\n",
    "    \n",
    "    # Now get array of the best profile\n",
    "    tmp_singlepulse = observation.getSinglePulses(windowsize=256)\n",
    "    \n",
    "    # Align and normalize\n",
    "    tmp_singlepulse.center_align()\n",
    "    tmp_singlepulse.normalize()\n",
    "    \n",
    "    # Save aligned and normalize in each observation\n",
    "    single_pulses.append(tmp_singlepulse)\n",
    "    \n",
    "# Save single pulse object\n",
    "sp_observations = dict(zip(psrfits_files, single_pulses))"
   ]
  },
  {
   "cell_type": "code",
   "execution_count": 9,
   "metadata": {},
   "outputs": [
    {
     "data": {
      "image/png": "[encoded data removed]",
      "text/plain": [
       "<matplotlib.figure.Figure at 0x7fd3262570f0>"
      ]
     },
     "metadata": {},
     "output_type": "display_data"
    }
   ],
   "source": [
    "# Plot SN vs duration\n",
    "\n",
    "duration=[]\n",
    "\n",
    "allsn = []\n",
    "\n",
    "for key in observations:\n",
    "    time = (observations[key].getDuration())/60\n",
    "    sn = sp_observations[key].getSN()\n",
    "    bins = observations[key].getNbin()\n",
    "    duration.append(time)\n",
    "    allsn.append(sn)\n",
    "    \n",
    "plt.close()\n",
    "plt.scatter(duration, allsn)\n",
    "plt.title('S/N vs Duration')\n",
    "plt.xlabel('Duration (minutes)')\n",
    "plt.ylabel('S/N')\n",
    "plt.show()"
   ]
  },
  {
   "cell_type": "code",
   "execution_count": 11,
   "metadata": {},
   "outputs": [
    {
     "name": "stdout",
     "output_type": "stream",
     "text": [
      "./A1/ds4096_J0437-4715_A1_20190912_042357_0.00-0.86_PSR_0437-4715.fits\n",
      "418.457504361\n"
     ]
    }
   ],
   "source": [
    "# Let us make a template with the best observation\n",
    "\n",
    "# Take the best SN observation (super inefficient but still fast)\n",
    "\n",
    "sn_max = np.max(allsn)\n",
    "for key in observations:\n",
    "    if sp_observations[key].getSN() == sn_max:\n",
    "        template_obs = key\n",
    "        \n",
    "print(template_obs)\n",
    "print(sn_max)"
   ]
  },
  {
   "cell_type": "code",
   "execution_count": 12,
   "metadata": {},
   "outputs": [
    {
     "name": "stderr",
     "output_type": "stream",
     "text": [
      "/opt/conda/lib/python3.6/site-packages/PyPulse-0.1-py3.6.egg/pypulse/utils.py:549: RuntimeWarning: overflow encountered in exp\n",
      "  y = np.exp(numer - denom)\n",
      "/opt/conda/lib/python3.6/site-packages/PyPulse-0.1-py3.6.egg/pypulse/utils.py:552: RuntimeWarning: invalid value encountered in true_divide\n",
      "  y /= np.max(np.abs(y))\n"
     ]
    },
    {
     "data": {
      "image/png": "[encoded data removed]",
      "text/plain": [
       "<matplotlib.figure.Figure at 0x7fd32624e240>"
      ]
     },
     "metadata": {},
     "output_type": "display_data"
    },
    {
     "data": {
      "image/png": "[encoded data removed]",
      "text/plain": [
       "<matplotlib.figure.Figure at 0x7fd366faa780>"
      ]
     },
     "metadata": {},
     "output_type": "display_data"
    }
   ],
   "source": [
    "# Make the template\n",
    "template_sp = observations[template_obs].getSinglePulses(windowsize=32)\n",
    "template_sp.center_align()\n",
    "template_sp.normalize()\n",
    "template = template_sp.vonMises_smoothing(nmax=30)\n",
    "\n",
    "# Check template\n",
    "plt.close()\n",
    "plt.plot(template)\n",
    "template_sp.plot()\n",
    "plt.show()"
   ]
  },
  {
   "cell_type": "code",
   "execution_count": null,
   "metadata": {
    "collapsed": true
   },
   "outputs": [],
   "source": []
  }
 ],
 "metadata": {
  "kernelspec": {
   "display_name": "Python 3",
   "language": "python",
   "name": "python3"
  },
  "language_info": {
   "codemirror_mode": {
    "name": "ipython",
    "version": 3
   },
   "file_extension": ".py",
   "mimetype": "text/x-python",
   "name": "python",
   "nbconvert_exporter": "python",
   "pygments_lexer": "ipython3",
   "version": "3.6.2"
  }
 },
 "nbformat": 4,
 "nbformat_minor": 2
}
