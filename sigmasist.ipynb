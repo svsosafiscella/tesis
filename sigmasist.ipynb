{
 "cells": [
  {
   "cell_type": "code",
   "execution_count": 1,
   "metadata": {
    "collapsed": true
   },
   "outputs": [],
   "source": [
    "import numpy as np\n",
    "import matplotlib.pyplot as plt\n",
    "import matplotlib.cbook as cbook\n",
    "import subprocess\n",
    "import math"
   ]
  },
  {
   "cell_type": "code",
   "execution_count": 2,
   "metadata": {
    "collapsed": true
   },
   "outputs": [],
   "source": [
    "# pequeña funcion que nos servira mas adelante para saber por cuanto debemos multiplicar\n",
    "# el paso para poder obtener un numero entero que ingresar en el for\n",
    "def num_after_point(x):\n",
    "    s = str(x)\n",
    "    if not '.' in s:\n",
    "        return 0\n",
    "    return len(s) - s.index('.') - 1"
   ]
  },
  {
   "cell_type": "code",
   "execution_count": 8,
   "metadata": {
    "collapsed": true
   },
   "outputs": [],
   "source": [
    "def chissqr(sigma_s):    # funcion que, dado un sigma sistematico, encuentra el chi cuadrado del grafico de residuos  \n",
    "\n",
    "# creamos un nuevo archivo .tim en el cual a los errores sumamos este sigma sistematico\n",
    "    \n",
    "    timfile = \"data_\" + str(sigma_s) + \".tim\"          # nombre del nuevo archivo .tim, donde hemos sumado el sigma sistematico\n",
    "    resfile = \"residues_\" + str(sigma_s) + \".dat\" # nombre del archivo que contendra el chi cuadrado\n",
    "    \n",
    "    f = open(timfile, \"w+\")                    # abrimos el nuevo archivo .tim\n",
    "    f.write(\"FORMAT 1\")                  # escibimos la primera linea\n",
    "    \n",
    "# ingresamos los datos, con el error aumentado en una cantidad igual a sigma sistematico\n",
    "    \n",
    "    for j in range( len(error) ):\n",
    "        f.write( file[j] , freq[j] , MJD[j] , error[j] + sigma_s , telescope[j])\n",
    "        \n",
    "# llamamos a tempo2\n",
    "    \n",
    "    subprocess.call(\"tempo2 >>\" + resfile + \"-us -f J0437-4715.par\" + timfile )\n",
    "\n",
    "# abrimos el archivo generado por tempo2, donde se encuentra el chicuadrado que buscamos\n",
    "\n",
    "    chi_sqr_red = np.genfromtxt ( resfile, comments=\"none\", dtype=float, skip_header=19, max_rows=1, usecols=(8) )\n",
    "\n",
    "# devolvemos la informacion al programa principal\n",
    "\n",
    "    return chi_sqr_red"
   ]
  },
  {
   "cell_type": "code",
   "execution_count": 9,
   "metadata": {},
   "outputs": [
    {
     "name": "stdout",
     "output_type": "stream",
     "text": [
      "xmin = 0.0\n",
      "xmax = 1.0\n",
      "step = 0.01\n",
      "datav2.tim\n"
     ]
    }
   ],
   "source": [
    "# obtenemos el intervalo de sigmas\n",
    "\n",
    "xmin = np.genfromtxt(\"interval.txt\", comments=\"none\", dtype=float, skip_header=0, max_rows=1, usecols=(2) )\n",
    "xmax = np.genfromtxt(\"interval.txt\", comments=\"none\", dtype=float, skip_header=1, max_rows=1, usecols=(2) )\n",
    "step = np.genfromtxt(\"interval.txt\", comments=\"none\", dtype=float, skip_header=2, max_rows=1, usecols=(2) )\n",
    "\n",
    "print(\"xmin = \" + str(xmin))\n",
    "print(\"xmax = \" + str(xmax))\n",
    "print(\"step = \" + str(step))\n",
    "\n",
    "a = num_after_point(step)           # número de decimales en el paso\n",
    "xmin_int = int( xmin * (10 ** a) )  # límite inferior entero del intervalo\n",
    "xmax_int = int( xmax * (10 ** a) )  # límite superior entero del intervalo\n",
    "step_int = int( step * (10 ** a) )  # paso entero\n",
    "\n",
    "n = int( (xmax_int-xmin_int)/step_int ) # numero de subintervalos\n",
    "\n",
    "# print(a)\n",
    "# print(xmin_int)\n",
    "# print(xmax_int)\n",
    "# print(step_int)\n",
    "# print(n)\n",
    "\n",
    "# leemos el nombre del archivo .tim\n",
    "\n",
    "timfile = np.genfromtxt(\"interval.txt\", comments=\"none\", dtype=str, skip_header=3, max_rows=1, usecols=(2))\n",
    "print(timfile)\n"
   ]
  },
  {
   "cell_type": "code",
   "execution_count": 10,
   "metadata": {
    "collapsed": true
   },
   "outputs": [],
   "source": [
    "# creamos un array para que guarde los sigma sistematicos de prueba y otro para los chi_sqr\n",
    "\n",
    "trial_sigma = np.empty(n)\n",
    "chi_sqr = np.empty(n)"
   ]
  },
  {
   "cell_type": "code",
   "execution_count": 11,
   "metadata": {
    "collapsed": true
   },
   "outputs": [],
   "source": [
    "# leemos los errores en el TOA del archivo .tim generado por pat\n",
    "\n",
    "timfile=\"datav2.tim\"\n",
    "file = np.loadtxt( timfile , skiprows=1 , dtype=str , usecols=(0) )\n",
    "freq = np.loadtxt( timfile, skiprows=1, dtype=float , usecols=(1) )\n",
    "MJD = np.loadtxt( timfile , skiprows=1 , dtype=float , usecols=(2) )\n",
    "error = np.loadtxt( timfile , skiprows=1 , dtype=float,  usecols=(3) )\n",
    "telescope = np.loadtxt( timfile, skiprows=1, dtype=str, usecols=(4) )\n",
    "\n",
    "# print(error)"
   ]
  },
  {
   "cell_type": "code",
   "execution_count": 12,
   "metadata": {
    "scrolled": true
   },
   "outputs": [
    {
     "ename": "NameError",
     "evalue": "name 'tms' is not defined",
     "output_type": "error",
     "traceback": [
      "\u001b[0;31m---------------------------------------------------------------------------\u001b[0m",
      "\u001b[0;31mNameError\u001b[0m                                 Traceback (most recent call last)",
      "\u001b[0;32m<ipython-input-12-e0391b2e7426>\u001b[0m in \u001b[0;36m<module>\u001b[0;34m()\u001b[0m\n\u001b[1;32m      8\u001b[0m \u001b[0;34m\u001b[0m\u001b[0m\n\u001b[1;32m      9\u001b[0m     \u001b[0msigma_s\u001b[0m \u001b[0;34m=\u001b[0m \u001b[0mfloat\u001b[0m\u001b[0;34m(\u001b[0m\u001b[0mx\u001b[0m\u001b[0;34m)\u001b[0m\u001b[0;34m/\u001b[0m \u001b[0;34m(\u001b[0m\u001b[0;36m10.\u001b[0m \u001b[0;34m**\u001b[0m \u001b[0ma\u001b[0m\u001b[0;34m)\u001b[0m      \u001b[0;31m# sigma sistematico\u001b[0m\u001b[0;34m\u001b[0m\u001b[0m\n\u001b[0;32m---> 10\u001b[0;31m     \u001b[0mprint\u001b[0m\u001b[0;34m(\u001b[0m\u001b[0;34m\"sigma_s[us] = \"\u001b[0m \u001b[0;34m+\u001b[0m \u001b[0mstr\u001b[0m\u001b[0;34m(\u001b[0m\u001b[0mtms\u001b[0m\u001b[0;34m)\u001b[0m\u001b[0;34m)\u001b[0m\u001b[0;34m\u001b[0m\u001b[0m\n\u001b[0m\u001b[1;32m     11\u001b[0m \u001b[0;34m\u001b[0m\u001b[0m\n\u001b[1;32m     12\u001b[0m \u001b[0;31m# guardamos la informacion\u001b[0m\u001b[0;34m\u001b[0m\u001b[0;34m\u001b[0m\u001b[0m\n",
      "\u001b[0;31mNameError\u001b[0m: name 'tms' is not defined"
     ]
    }
   ],
   "source": [
    "# Set-up a period grid with values separated by 0.1 µs between 0 and 1\n",
    "\n",
    "res = open(\"resultados.dat\", \"w+\")                                    # abrimos un archivo de salida\n",
    "res.write(\"sigma_s , chi_sqr\")\n",
    "i = 0\n",
    "\n",
    "for x in range(xmin_int, xmax_int, step_int):\n",
    "    \n",
    "    sigma_s = float(x)/ (10. ** a)      # sigma sistematico\n",
    "    print(\"sigma_s[us] = \" + str(sigma_s))    \n",
    "\n",
    "# guardamos la informacion\n",
    "\n",
    "    trial_sigma[i] = sigma_s\n",
    "    chi_sqr[i] = chissqr(sigma_s)\n",
    "    \n",
    "    print( \"chisqr_\" + str(sigma_s) + \" = \" + str(chi_sqr[i]) ) # escribimos por pantalla\n",
    "    print()\n",
    "    \n",
    "    res.write(trial_sigma[i], chi_sqr[i])                       # escribimos en el archivo de salida\n",
    "    \n",
    "    i += 1\n",
    "\n",
    "# graficamos chi_sqr vs sigma_s\n",
    "\n",
    "plt.xlabel(\"sigma_s\")\n",
    "plt.ylabel(\"chi_sqr_red\")\n",
    "plt.plot(trial_sigma, chi_sqr)\n",
    "plt.savefig(\"chicuadrado.png\")\n",
    "plt.clf()\n",
    "\n",
    "# Creamos un nuevo array que sea la diferencia entre los chi_sqr obtenidos y 1\n",
    "\n",
    "diff_chi_sqr = abs ( chi_sqr - 1. )\n",
    "\n",
    "# Hallamos el máximo chi_sqr mas cercano a 1 y el correspondiente sigma sistematico\n",
    "\n",
    "print(\"el chi_sqr mas cercano a 1 es: \" + str( np.amin(diff_chi_sqr) ))\n",
    "print(\"el correspondiente : \" + str( trial_p[ np.where( SN == np.amax(SN)) ] ) )\n",
    "\n",
    "res.print()\n",
    "res.print(\"el chi_sqr mas cercano a 1 es: \" + str( np.amin(diff_chi_sqr) ))\n",
    "res.print(\"el correspondiente : \" + str( trial_p[ np.where( SN == np.amax(SN)) ] ))\n",
    "    \n",
    "    "
   ]
  },
  {
   "cell_type": "code",
   "execution_count": null,
   "metadata": {
    "collapsed": true
   },
   "outputs": [],
   "source": []
  }
 ],
 "metadata": {
  "kernelspec": {
   "display_name": "Python 3",
   "language": "python",
   "name": "python3"
  },
  "language_info": {
   "codemirror_mode": {
    "name": "ipython",
    "version": 3
   },
   "file_extension": ".py",
   "mimetype": "text/x-python",
   "name": "python",
   "nbconvert_exporter": "python",
   "pygments_lexer": "ipython3",
   "version": "3.6.2"
  }
 },
 "nbformat": 4,
 "nbformat_minor": 4
}
