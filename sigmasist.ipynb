{
 "cells": [
  {
   "cell_type": "code",
   "execution_count": 39,
   "metadata": {},
   "outputs": [],
   "source": [
    "import numpy as np\n",
    "from decimal import *\n",
    "getcontext().prec = 2\n",
    "\n",
    "import matplotlib.pyplot as plt\n",
    "import matplotlib.cbook as cbook\n",
    "import subprocess\n",
    "import math"
   ]
  },
  {
   "cell_type": "code",
   "execution_count": 40,
   "metadata": {},
   "outputs": [],
   "source": [
    "# pequeña funcion que nos servira mas adelante para saber por cuanto debemos multiplicar\n",
    "# el paso para poder obtener un numero entero que ingresar en el for\n",
    "def num_after_point(x):\n",
    "    s = str(x)\n",
    "    if not '.' in s:\n",
    "        return 0\n",
    "    return len(s) - s.index('.') - 1"
   ]
  },
  {
   "cell_type": "code",
   "execution_count": 41,
   "metadata": {},
   "outputs": [],
   "source": [
    "def chissqr(sigma_s):    # funcion que, dado un sigma sistematico, encuentra el chi cuadrado del grafico de residuos  \n",
    "\n",
    "# creamos un nuevo archivo .tim en el cual a los errores sumamos este sigma sistematico\n",
    "    \n",
    "    timfile = \"data_\" + str(sigma_s) + \".tim\"          # nombre del nuevo archivo .tim, donde hemos sumado el sigma sistematico\n",
    "    resfile = \"residues_\" + str(sigma_s) + \".dat\" # nombre del archivo que contendra el chi cuadrado\n",
    "    \n",
    "    f = open(timfile, \"w+\")                    # abrimos el nuevo archivo .tim\n",
    "    f.write(\"FORMAT 1\" + '\\n')                 # escibimos la primera linea\n",
    "    \n",
    "# ingresamos los datos, con el error aumentado en una cantidad igual a sigma sistematico\n",
    "    \n",
    "    for j in range( len(error) ):\n",
    "        newerror = error[j] + sigma_s\n",
    "        f.write( str(file[j]) + ' ' + '{:11.6f}'.format(freq[j]) + ' ' + '{:21.15f}'.format(float(MJD[j])) + '   ' + '{:5.3f}'.format(newerror) + '  ' + str(telescope[j]) + '\\n')\n",
    "    final.write\n",
    "# llamamos a tempo2\n",
    "    \n",
    "    subprocess.call( \"tempo2 >\" + resfile + \" -us -f J0437-4715.par \" + timfile , shell=True)\n",
    "\n",
    "# abrimos el archivo generado por tempo2, donde se encuentra el chicuadrado que buscamos\n",
    "\n",
    "    chi_sqr_red = np.genfromtxt ( resfile, comments=\"none\", dtype=float, skip_header=19, max_rows=1, usecols=(8) )\n",
    "    print(\"chi_sqr_red= \" + str(chi_sqr_red))\n",
    "# devolvemos la informacion al programa principal\n",
    "\n",
    "    return chi_sqr_re"
   ]
  },
  {
   "cell_type": "code",
   "execution_count": 42,
   "metadata": {},
   "outputs": [
    {
     "name": "stdout",
     "output_type": "stream",
     "text": [
      "xmin = 0.0\n",
      "xmax = 1.0\n",
      "step = 0.01\n",
      "datav2.tim\n"
     ]
    }
   ],
   "source": [
    "# obtenemos el intervalo de sigmas\n",
    "\n",
    "xmin = np.genfromtxt(\"interval.txt\", comments=\"none\", dtype=float, skip_header=0, max_rows=1, usecols=(2) )\n",
    "xmax = np.genfromtxt(\"interval.txt\", comments=\"none\", dtype=float, skip_header=1, max_rows=1, usecols=(2) )\n",
    "step = np.genfromtxt(\"interval.txt\", comments=\"none\", dtype=float, skip_header=2, max_rows=1, usecols=(2) )\n",
    "\n",
    "print(\"xmin = \" + str(xmin))\n",
    "print(\"xmax = \" + str(xmax))\n",
    "print(\"step = \" + str(step))\n",
    "\n",
    "a = num_after_point(step)           # número de decimales en el paso\n",
    "xmin_int = int( xmin * (10 ** a) )  # límite inferior entero del intervalo\n",
    "xmax_int = int( xmax * (10 ** a) )  # límite superior entero del intervalo\n",
    "step_int = int( step * (10 ** a) )  # paso entero\n",
    "\n",
    "n = int( (xmax_int-xmin_int)/step_int ) # numero de subintervalos\n",
    "\n",
    "# print(a)\n",
    "# print(xmin_int)\n",
    "# print(xmax_int)\n",
    "# print(step_int)\n",
    "# print(n)\n",
    "\n",
    "# leemos el nombre del archivo .tim\n",
    "\n",
    "timfile = np.genfromtxt(\"interval.txt\", comments=\"none\", dtype=str, skip_header=3, max_rows=1, usecols=(2))\n",
    "print(timfile)\n"
   ]
  },
  {
   "cell_type": "code",
   "execution_count": 43,
   "metadata": {},
   "outputs": [],
   "source": [
    "# creamos un array para que guarde los sigma sistematicos de prueba y otro para los chi_sqr\n",
    "\n",
    "trial_sigma = np.empty(n)\n",
    "chi_sqr = np.empty(n)"
   ]
  },
  {
   "cell_type": "code",
   "execution_count": 51,
   "metadata": {
    "scrolled": false
   },
   "outputs": [
    {
     "name": "stdout",
     "output_type": "stream",
     "text": [
      "75\n",
      "58597.706153482125956\n",
      "58597.736002991689020\n",
      "58600.779144387175620\n",
      "58601.728010024889954\n",
      "58602.748769065896340\n",
      "58603.766769630259660\n",
      "58605.759251928451704\n",
      "58606.708010599199042\n",
      "58606.777879822759132\n",
      "58610.730894162836194\n",
      "58613.751146245791460\n",
      "58614.698377191380132\n",
      "58615.666969583282480\n",
      "58615.742797008279013\n",
      "58616.737007837109559\n",
      "58617.713895000153570\n",
      "58620.716189948332612\n",
      "58621.701626454356301\n",
      "58622.667700960875663\n",
      "58623.680446559199481\n",
      "58629.697739854884276\n",
      "58630.684395193828095\n",
      "58638.679969120887108\n",
      "58639.652628378324152\n",
      "58640.680717322153214\n",
      "58641.663399201876018\n",
      "58642.586505503757508\n",
      "58642.611515339893231\n",
      "58642.675486701649788\n",
      "58644.638560177423642\n",
      "58645.636302406041068\n",
      "58648.626783897379937\n",
      "58654.611934286534961\n",
      "58655.607860286640062\n",
      "58656.606013070355402\n",
      "58657.621304307547689\n",
      "58662.596502158339717\n",
      "58663.595551453654480\n",
      "58665.546994436153909\n",
      "58666.546547128520615\n",
      "58667.553057150536915\n",
      "58671.602902086699032\n",
      "58679.560158464766573\n",
      "58681.525108062181971\n",
      "58682.516620526163024\n",
      "58684.553614947108144\n",
      "58689.485362657120277\n",
      "58690.449338447644550\n",
      "58691.494071169887320\n",
      "58692.507399820075079\n",
      "58693.503640352384537\n",
      "58694.502216769818915\n",
      "58695.522746931288566\n",
      "58696.454613401707320\n",
      "58697.455834983993554\n",
      "58700.499148514580156\n",
      "58702.482191591465380\n",
      "58703.453734637128946\n",
      "58707.476447950546572\n",
      "58716.475384568861045\n",
      "58718.478131546216900\n",
      "58729.376936767548614\n",
      "58731.372781701233180\n",
      "58734.341850966680795\n",
      "58735.377304000372533\n",
      "58737.371510912125814\n",
      "58739.357854838221101\n",
      "58742.361648053185490\n",
      "58743.354732255145791\n",
      "58744.344039150208118\n",
      "58746.347602091598674\n",
      "58750.377019586718234\n",
      "58751.346992707964091\n",
      "58755.329323252342874\n",
      "58756.326603347661148\n"
     ]
    }
   ],
   "source": [
    "# leemos los errores en el TOA del archivo .tim generado por pat\n",
    "\n",
    "timfile=\"datav2.tim\"\n",
    "file = np.loadtxt( timfile , skiprows=1 , dtype=str , usecols=(0) )\n",
    "freq = np.loadtxt( timfile, skiprows=1, dtype=float , usecols=(1) )\n",
    "MJD = np.loadtxt( timfile , skiprows=1 , dtype=np.dtype(Decimal) , usecols=(2) )\n",
    "error = np.loadtxt( timfile , skiprows=1 , dtype=float,  usecols=(3) )\n",
    "telescope = np.loadtxt( timfile, skiprows=1, dtype=str, usecols=(4) )\n",
    "\n",
    "print(len(error))\n",
    "#print(error)\n",
    "#for i in range(0, len(error)):\n",
    "#    print('{:21.15f}'.format(float(MJD[i])))"
   ]
  },
  {
   "cell_type": "code",
   "execution_count": 29,
   "metadata": {
    "scrolled": true
   },
   "outputs": [
    {
     "name": "stdout",
     "output_type": "stream",
     "text": [
      "sigma_s[us] = 0.0\n"
     ]
    },
    {
     "ename": "StopIteration",
     "evalue": "",
     "output_type": "error",
     "traceback": [
      "\u001b[0;31m---------------------------------------------------------------------------\u001b[0m",
      "\u001b[0;31mStopIteration\u001b[0m                             Traceback (most recent call last)",
      "\u001b[0;32m<ipython-input-29-573a03e730ea>\u001b[0m in \u001b[0;36m<module>\u001b[0;34m\u001b[0m\n\u001b[1;32m     13\u001b[0m \u001b[0;34m\u001b[0m\u001b[0m\n\u001b[1;32m     14\u001b[0m     \u001b[0mtrial_sigma\u001b[0m\u001b[0;34m[\u001b[0m\u001b[0mi\u001b[0m\u001b[0;34m]\u001b[0m \u001b[0;34m=\u001b[0m \u001b[0msigma_s\u001b[0m\u001b[0;34m\u001b[0m\u001b[0;34m\u001b[0m\u001b[0m\n\u001b[0;32m---> 15\u001b[0;31m     \u001b[0mchi_sqr\u001b[0m\u001b[0;34m[\u001b[0m\u001b[0mi\u001b[0m\u001b[0;34m]\u001b[0m \u001b[0;34m=\u001b[0m \u001b[0mchissqr\u001b[0m\u001b[0;34m(\u001b[0m\u001b[0msigma_s\u001b[0m\u001b[0;34m)\u001b[0m\u001b[0;34m\u001b[0m\u001b[0;34m\u001b[0m\u001b[0m\n\u001b[0m\u001b[1;32m     16\u001b[0m \u001b[0;34m\u001b[0m\u001b[0m\n\u001b[1;32m     17\u001b[0m     \u001b[0mprint\u001b[0m\u001b[0;34m(\u001b[0m \u001b[0;34m\"chisqr_\"\u001b[0m \u001b[0;34m+\u001b[0m \u001b[0mstr\u001b[0m\u001b[0;34m(\u001b[0m\u001b[0msigma_s\u001b[0m\u001b[0;34m)\u001b[0m \u001b[0;34m+\u001b[0m \u001b[0;34m\" = \"\u001b[0m \u001b[0;34m+\u001b[0m \u001b[0mstr\u001b[0m\u001b[0;34m(\u001b[0m\u001b[0mchi_sqr\u001b[0m\u001b[0;34m[\u001b[0m\u001b[0mi\u001b[0m\u001b[0;34m]\u001b[0m\u001b[0;34m)\u001b[0m \u001b[0;34m)\u001b[0m      \u001b[0;31m# escribimos por pantalla\u001b[0m\u001b[0;34m\u001b[0m\u001b[0;34m\u001b[0m\u001b[0m\n",
      "\u001b[0;32m<ipython-input-25-5586decb558a>\u001b[0m in \u001b[0;36mchissqr\u001b[0;34m(sigma_s)\u001b[0m\n\u001b[1;32m     21\u001b[0m \u001b[0;31m# abrimos el archivo generado por tempo2, donde se encuentra el chicuadrado que buscamos\u001b[0m\u001b[0;34m\u001b[0m\u001b[0;34m\u001b[0m\u001b[0;34m\u001b[0m\u001b[0m\n\u001b[1;32m     22\u001b[0m \u001b[0;34m\u001b[0m\u001b[0m\n\u001b[0;32m---> 23\u001b[0;31m     \u001b[0mchi_sqr_red\u001b[0m \u001b[0;34m=\u001b[0m \u001b[0mnp\u001b[0m\u001b[0;34m.\u001b[0m\u001b[0mgenfromtxt\u001b[0m \u001b[0;34m(\u001b[0m \u001b[0mresfile\u001b[0m\u001b[0;34m,\u001b[0m \u001b[0mcomments\u001b[0m\u001b[0;34m=\u001b[0m\u001b[0;34m\"none\"\u001b[0m\u001b[0;34m,\u001b[0m \u001b[0mdtype\u001b[0m\u001b[0;34m=\u001b[0m\u001b[0mfloat\u001b[0m\u001b[0;34m,\u001b[0m \u001b[0mskip_header\u001b[0m\u001b[0;34m=\u001b[0m\u001b[0;36m19\u001b[0m\u001b[0;34m,\u001b[0m \u001b[0mmax_rows\u001b[0m\u001b[0;34m=\u001b[0m\u001b[0;36m1\u001b[0m\u001b[0;34m,\u001b[0m \u001b[0musecols\u001b[0m\u001b[0;34m=\u001b[0m\u001b[0;34m(\u001b[0m\u001b[0;36m8\u001b[0m\u001b[0;34m)\u001b[0m \u001b[0;34m)\u001b[0m\u001b[0;34m\u001b[0m\u001b[0;34m\u001b[0m\u001b[0m\n\u001b[0m\u001b[1;32m     24\u001b[0m     \u001b[0mprint\u001b[0m\u001b[0;34m(\u001b[0m\u001b[0;34m\"chi_sqr_red= \"\u001b[0m \u001b[0;34m+\u001b[0m \u001b[0mstr\u001b[0m\u001b[0;34m(\u001b[0m\u001b[0mchi_sqr_red\u001b[0m\u001b[0;34m)\u001b[0m\u001b[0;34m)\u001b[0m\u001b[0;34m\u001b[0m\u001b[0;34m\u001b[0m\u001b[0m\n\u001b[1;32m     25\u001b[0m \u001b[0;31m# devolvemos la informacion al programa principal\u001b[0m\u001b[0;34m\u001b[0m\u001b[0;34m\u001b[0m\u001b[0;34m\u001b[0m\u001b[0m\n",
      "\u001b[0;32m~/anaconda3/lib/python3.7/site-packages/numpy/lib/npyio.py\u001b[0m in \u001b[0;36mgenfromtxt\u001b[0;34m(fname, dtype, comments, delimiter, skip_header, skip_footer, converters, missing_values, filling_values, usecols, names, excludelist, deletechars, replace_space, autostrip, case_sensitive, defaultfmt, unpack, usemask, loose, invalid_raise, max_rows, encoding)\u001b[0m\n\u001b[1;32m   1778\u001b[0m         \u001b[0;31m# Skip the first `skip_header` rows\u001b[0m\u001b[0;34m\u001b[0m\u001b[0;34m\u001b[0m\u001b[0;34m\u001b[0m\u001b[0m\n\u001b[1;32m   1779\u001b[0m         \u001b[0;32mfor\u001b[0m \u001b[0mi\u001b[0m \u001b[0;32min\u001b[0m \u001b[0mrange\u001b[0m\u001b[0;34m(\u001b[0m\u001b[0mskip_header\u001b[0m\u001b[0;34m)\u001b[0m\u001b[0;34m:\u001b[0m\u001b[0;34m\u001b[0m\u001b[0;34m\u001b[0m\u001b[0m\n\u001b[0;32m-> 1780\u001b[0;31m             \u001b[0mnext\u001b[0m\u001b[0;34m(\u001b[0m\u001b[0mfhd\u001b[0m\u001b[0;34m)\u001b[0m\u001b[0;34m\u001b[0m\u001b[0;34m\u001b[0m\u001b[0m\n\u001b[0m\u001b[1;32m   1781\u001b[0m \u001b[0;34m\u001b[0m\u001b[0m\n\u001b[1;32m   1782\u001b[0m         \u001b[0;31m# Keep on until we find the first valid values\u001b[0m\u001b[0;34m\u001b[0m\u001b[0;34m\u001b[0m\u001b[0;34m\u001b[0m\u001b[0m\n",
      "\u001b[0;31mStopIteration\u001b[0m: "
     ]
    }
   ],
   "source": [
    "# Set-up a period grid with values separated by 0.1 µs between 0 and 1\n",
    "\n",
    "res = open(\"resultados.dat\", \"w+\")                                    # abrimos un archivo de salida\n",
    "res.write(\"sigma_s , chi_sqr\" )\n",
    "i = 0\n",
    "\n",
    "for x in range(xmin_int, xmax_int, step_int):\n",
    "\n",
    "    sigma_s = float(x)/ (10. ** a)      # sigma sistematico\n",
    "    print(\"sigma_s[us] = \" + str(sigma_s))    \n",
    "\n",
    "# guardamos la informacion\n",
    "\n",
    "    trial_sigma[i] = sigma_s\n",
    "    chi_sqr[i] = chissqr(sigma_s)\n",
    "    \n",
    "    print( \"chisqr_\" + str(sigma_s) + \" = \" + str(chi_sqr[i]) )      # escribimos por pantalla\n",
    "    print()\n",
    "    \n",
    "    res.write(str(trial_sigma[i]) + ' ' + str(chi_sqr[i]) )          # escribimos en el archivo de salida\n",
    "    \n",
    "    i += 1\n",
    "\n",
    "# graficamos chi_sqr vs sigma_s\n",
    "\n",
    "#plt.xlabel(\"sigma_s\")\n",
    "#plt.ylabel(\"chi_sqr_red\")\n",
    "#plt.plot(trial_sigma, chi_sqr)\n",
    "#plt.savefig(\"chicuadrado.png\")\n",
    "#plt.clf()\n",
    "\n",
    "# Creamos un nuevo array que sea la diferencia entre los chi_sqr obtenidos y 1\n",
    "\n",
    "#diff_chi_sqr = abs ( chi_sqr - 1. )\n",
    "\n",
    "# Hallamos el máximo chi_sqr mas cercano a 1 y el correspondiente sigma sistematico\n",
    "\n",
    "#print(\"el chi_sqr mas cercano a 1 es: \" + str( np.amin(diff_chi_sqr) ))\n",
    "#print(\"el correspondiente : \" + str( trial_p[ np.where( SN == np.amax(SN)) ] ) )\n",
    "\n",
    "#res.print()\n",
    "#res.print(\"el chi_sqr mas cercano a 1 es: \" + str( np.amin(diff_chi_sqr) ))\n",
    "#res.print(\"el correspondiente : \" + str( trial_p[ np.where( SN == np.amax(SN)) ] ))\n",
    "    \n",
    "    "
   ]
  },
  {
   "cell_type": "code",
   "execution_count": null,
   "metadata": {},
   "outputs": [],
   "source": []
  }
 ],
 "metadata": {
  "kernelspec": {
   "display_name": "Python 3",
   "language": "python",
   "name": "python3"
  },
  "language_info": {
   "codemirror_mode": {
    "name": "ipython",
    "version": 3
   },
   "file_extension": ".py",
   "mimetype": "text/x-python",
   "name": "python",
   "nbconvert_exporter": "python",
   "pygments_lexer": "ipython3",
   "version": "3.7.4"
  }
 },
 "nbformat": 4,
 "nbformat_minor": 4
}
