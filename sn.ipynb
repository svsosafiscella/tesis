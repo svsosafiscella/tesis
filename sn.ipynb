{
 "cells": [
  {
   "cell_type": "code",
   "execution_count": 1,
   "metadata": {
    "collapsed": true
   },
   "outputs": [],
   "source": [
    "#-----------------------------------------\n",
    "# importamos los paquetes que vamos a usar\n",
    "#-----------------------------------------\n",
    "\n",
    "import pypulse as pulsar\n",
    "import matplotlib.pyplot as plt     # para graficar\n",
    "\n",
    "import numpy as np\n",
    "import glob                         # para hacer listas de archivo\n",
    "import subprocess                   # para usar subprocesos"
   ]
  },
  {
   "cell_type": "code",
   "execution_count": 2,
   "metadata": {},
   "outputs": [
    {
     "name": "stdout",
     "output_type": "stream",
     "text": [
      "148\n"
     ]
    }
   ],
   "source": [
    "#----------------------------------------------------------------------------\n",
    "# Partimos de un conjunto de observaciones mezcladas con diferentes S/N\n",
    "#----------------------------------------------------------------------------\n",
    "\n",
    "ant = 'A2'                          # antena usada (A1 o A2)                    \n",
    "\n",
    "# creamos una lista con todos los archivos .pfd de observaciones\n",
    "\n",
    "timing_folder = './' + str(ant) + '_SN/'\n",
    "pfd_files = glob.glob(timing_folder+'*pfd')         # lista de archivos .pfd\n",
    "\n",
    "print(len(pfd_files))"
   ]
  },
  {
   "cell_type": "code",
   "execution_count": 1,
   "metadata": {},
   "outputs": [
    {
     "ename": "NameError",
     "evalue": "name 'pfd_files' is not defined",
     "output_type": "error",
     "traceback": [
      "\u001b[0;31m---------------------------------------------------------------------------\u001b[0m",
      "\u001b[0;31mNameError\u001b[0m                                 Traceback (most recent call last)",
      "\u001b[0;32m<ipython-input-1-814ab02a2ef5>\u001b[0m in \u001b[0;36m<module>\u001b[0;34m()\u001b[0m\n\u001b[1;32m      1\u001b[0m \u001b[0;31m# Convert PFD files to PSRFITS\u001b[0m\u001b[0;34m\u001b[0m\u001b[0;34m\u001b[0m\u001b[0m\n\u001b[1;32m      2\u001b[0m \u001b[0;34m\u001b[0m\u001b[0m\n\u001b[0;32m----> 3\u001b[0;31m \u001b[0;32mfor\u001b[0m \u001b[0mpfd\u001b[0m \u001b[0;32min\u001b[0m \u001b[0mpfd_files\u001b[0m\u001b[0;34m:\u001b[0m\u001b[0;34m\u001b[0m\u001b[0m\n\u001b[0m\u001b[1;32m      4\u001b[0m     \u001b[0msubprocess\u001b[0m\u001b[0;34m.\u001b[0m\u001b[0mcheck_call\u001b[0m\u001b[0;34m(\u001b[0m\u001b[0;34m[\u001b[0m\u001b[0;34m'psrconv'\u001b[0m\u001b[0;34m,\u001b[0m\u001b[0;34m'-o'\u001b[0m\u001b[0;34m,\u001b[0m\u001b[0;34m'PSRFITS'\u001b[0m\u001b[0;34m,\u001b[0m\u001b[0;34m'-e'\u001b[0m\u001b[0;34m,\u001b[0m\u001b[0;34m'fits'\u001b[0m\u001b[0;34m,\u001b[0m\u001b[0mpfd\u001b[0m\u001b[0;34m]\u001b[0m\u001b[0;34m)\u001b[0m\u001b[0;34m\u001b[0m\u001b[0m\n\u001b[1;32m      5\u001b[0m \u001b[0;34m\u001b[0m\u001b[0m\n",
      "\u001b[0;31mNameError\u001b[0m: name 'pfd_files' is not defined"
     ]
    }
   ],
   "source": [
    "# Convert PFD files to PSRFITS\n",
    "\n",
    "for pfd in pfd_files:\n",
    "    subprocess.check_call(['psrconv','-o','PSRFITS','-e','fits',pfd])\n",
    "    \n",
    "# Save all PSRFITS files\n",
    "psrfits_files = glob.glob(timing_folder+'*fits')\n",
    "\n",
    "# Load all PSRFITS into PyPulse\n",
    "fits_pypulse= []\n",
    "for psrfits in psrfits_files:\n",
    "    temp_pypulse= pulsar.Archive(psrfits)\n",
    "    fits_pypulse.append(temp_pypulse)\n",
    "\n",
    "observations = dict(zip(psrfits_files, fits_pypulse))\n",
    "print(len(observations))"
   ]
  },
  {
   "cell_type": "code",
   "execution_count": null,
   "metadata": {
    "collapsed": true
   },
   "outputs": [],
   "source": [
    "# Create single pulse object\n",
    "# Creat array of best profiles\n",
    "\n",
    "single_pulses=[]\n",
    "\n",
    "for observation in fits_pypulse:\n",
    "    \n",
    "    # First crunch in time and frequency\n",
    "    observation.fscrunch()\n",
    "    observation.tscrunch()\n",
    "    \n",
    "    # Now get array of the best profile\n",
    "    tmp_singlepulse = observation.getSinglePulses(windowsize=256)\n",
    "    \n",
    "    # Align and normalize\n",
    "    tmp_singlepulse.center_align()\n",
    "    tmp_singlepulse.normalize()\n",
    "    \n",
    "    # Save aligned and normalize in each observation\n",
    "    single_pulses.append(tmp_singlepulse)\n",
    "    \n",
    "# Save single pulse object\n",
    "sp_observations = dict(zip(psrfits_files, single_pulses)\n",
    "print(len(sp_observations))"
   ]
  },
  {
   "cell_type": "code",
   "execution_count": null,
   "metadata": {
    "collapsed": true
   },
   "outputs": [],
   "source": [
    "# y nos quedamos con los .pfds de S/N >= SN_min\n",
    "\n",
    "files_50 = []\n",
    "files_100 = []\n",
    "files_150 = []\n",
    "files_200 = []\n",
    "\n",
    "for key in observations:\n",
    "    \n",
    "    sn = sp_observations[key].getSN()\n",
    "    temp = key.replace(\"./A2_SN/\", \"\")\n",
    "    file = temp.replace(\".fits\", \"pfd\")\n",
    "        \n",
    "    if sn > 50:\n",
    "        files_50.append(file)\n",
    "        \n",
    "    if sn > 100:\n",
    "        files_100.append(file)\n",
    "        \n",
    "    if sn > 150:\n",
    "        files_150.append(file)\n",
    "        \n",
    "    if sn > 200:\n",
    "        files_200.append(file)\n",
    "        \n",
    "print(len(files_50))\n",
    "print(len(files_100))\n",
    "print(len(files_150))\n",
    "print(len(files_200))"
   ]
  },
  {
   "cell_type": "code",
   "execution_count": null,
   "metadata": {
    "collapsed": true
   },
   "outputs": [],
   "source": [
    "files_50.remove('prepfold_20191204_230627_PSR_0437-4715.pfd')\n",
    "files_100.remove('prepfold_20191204_230627_PSR_0437-4715.pfd')\n",
    "files_150.remove('prepfold_20191204_230627_PSR_0437-4715.pfd')\n",
    "files_200.remove('prepfold_20191204_230627_PSR_0437-4715.pfd')\n",
    "\n",
    "print(len(files_50))\n",
    "print(len(files_100))\n",
    "print(len(files_150))\n",
    "print(len(files_200))"
   ]
  },
  {
   "cell_type": "code",
   "execution_count": 3,
   "metadata": {},
   "outputs": [
    {
     "name": "stdout",
     "output_type": "stream",
     "text": [
      "template = template_1024_A2.std.sm\n",
      "timing file = timing_50.tim\n"
     ]
    },
    {
     "ename": "NameError",
     "evalue": "name 'pfd_files' is not defined",
     "output_type": "error",
     "traceback": [
      "\u001b[0;31m---------------------------------------------------------------------------\u001b[0m",
      "\u001b[0;31mNameError\u001b[0m                                 Traceback (most recent call last)",
      "\u001b[0;32m<ipython-input-3-9de5a9a18ba8>\u001b[0m in \u001b[0;36m<module>\u001b[0;34m()\u001b[0m\n\u001b[1;32m     14\u001b[0m \u001b[0;34m\u001b[0m\u001b[0m\n\u001b[1;32m     15\u001b[0m \u001b[0marchivos\u001b[0m \u001b[0;34m=\u001b[0m \u001b[0;34m''\u001b[0m\u001b[0;34m\u001b[0m\u001b[0m\n\u001b[0;32m---> 16\u001b[0;31m \u001b[0;32mfor\u001b[0m \u001b[0mpfd\u001b[0m \u001b[0;32min\u001b[0m \u001b[0mpfd_files\u001b[0m\u001b[0;34m:\u001b[0m\u001b[0;34m\u001b[0m\u001b[0m\n\u001b[0m\u001b[1;32m     17\u001b[0m     \u001b[0marchivos\u001b[0m \u001b[0;34m=\u001b[0m \u001b[0marchivos\u001b[0m \u001b[0;34m+\u001b[0m \u001b[0mpfd\u001b[0m \u001b[0;34m+\u001b[0m \u001b[0;34m' '\u001b[0m\u001b[0;34m\u001b[0m\u001b[0m\n\u001b[1;32m     18\u001b[0m \u001b[0;34m\u001b[0m\u001b[0m\n",
      "\u001b[0;31mNameError\u001b[0m: name 'pfd_files' is not defined"
     ]
    }
   ],
   "source": [
    "#-----------------------------------------\n",
    "# generamos los TOAs (el archivo .tim)\n",
    "#-----------------------------------------\n",
    "\n",
    "sn_min = 50\n",
    "\n",
    "template = \"template_1024_A2.std.sm\"  # nombre del template\n",
    "timing_file = \"timing_\" + str(sn_min) + \".tim\"       # nombre del archivo .tim\n",
    "\n",
    "print(\"template = \" + str(template) )\n",
    "print(\"timing file = \" + str(timing_file) )\n",
    "\n",
    "# primero, generamos un string que contenga todos los archivos .pfd\n",
    "\n",
    "archivos = ''\n",
    "for pfd in files_50:\n",
    "    archivos = archivos + pfd + ' '\n",
    "        \n",
    "# ahora llamamos a pat para generar el archivo .tim\n",
    "\n",
    "subprocess.check_call( \"pat -FT -A PGS -s \" + template + \" -f >\" + timing_file + \" 'tempo2' \" + archivos, cwd=timing_folder, shell = True)\n",
    "\n",
    "\n",
    "\n",
    "#-----------------------------------------\n",
    "# calculamos el rms usando tempo2\n",
    "#-----------------------------------------\n",
    "\n",
    "residue_file = \"residues_\" + str(sn_min) + \".dat\"   # nombre del archivo de los residuos\n",
    "\n",
    "subprocess.check_call( \"tempo2 >\" + residue_file + \" -us -f J0437-4715.par \" + timing_file, cwd=timing_folder, shell=True)\n",
    "\n",
    "# abrimos el archivo generado por tempo2, donde se encuentra el RMS que buscamos\n",
    "\n",
    "RMS = np.genfromtxt ( str(ant) + '_' + str(nbin) + '/' + residue_file, comments=\"none\", dtype=float, skip_header=18, max_rows=1, usecols=(10) )\n",
    "\n",
    "print(str(sn_min) + ' ' + str(RMS) )"
   ]
  }
 ],
 "metadata": {
  "kernelspec": {
   "display_name": "Python 3",
   "language": "python",
   "name": "python3"
  },
  "language_info": {
   "codemirror_mode": {
    "name": "ipython",
    "version": 3
   },
   "file_extension": ".py",
   "mimetype": "text/x-python",
   "name": "python",
   "nbconvert_exporter": "python",
   "pygments_lexer": "ipython3",
   "version": "3.6.2"
  }
 },
 "nbformat": 4,
 "nbformat_minor": 4
}
