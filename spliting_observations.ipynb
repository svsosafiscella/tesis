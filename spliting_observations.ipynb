{
 "cells": [
  {
   "cell_type": "code",
   "execution_count": 59,
   "metadata": {
    "collapsed": true
   },
   "outputs": [],
   "source": [
    "import psrchive\n",
    "import matplotlib.pyplot as plt\n",
    "import numpy as np\n",
    "import glob\n",
    "import subprocess"
   ]
  },
  {
   "cell_type": "code",
   "execution_count": 60,
   "metadata": {},
   "outputs": [],
   "source": [
    "# Define arguments.\n",
    "def pat_args(nsubint):\n",
    "\n",
    "# Choose a given template named 'pulsar.pfd.std'\n",
    "\n",
    "    usingtemplate = './template_1024_A1.std.sm'\n",
    "    \n",
    "    return '-A PGS -f \"tempo2\" -s {} -jFD -j \"T {}\" '.format(usingtemplate,nsubint)"
   ]
  },
  {
   "cell_type": "code",
   "execution_count": 61,
   "metadata": {},
   "outputs": [
    {
     "name": "stdout",
     "output_type": "stream",
     "text": [
      "['prepfold_20190621_094647_PSR_0437-4715.pfd'\n",
      " 'prepfold_20190929_030911_PSR_0437-4715.pfd'\n",
      " 'ds4096_J0437-4715_A1_20190922_041010_0.00-0.90_PSR_0437-4715.pfd'\n",
      " 'ds4096_J0437-4715_A1_20190912_042357_0.00-0.86_PSR_0437-4715.pfd'\n",
      " 'prepfold_20190623_103438_PSR_0437-4715.pfd'\n",
      " 'prepfold_20190930_030516_PSR_0437-4715.pfd'\n",
      " 'prepfold_20190610_103229_PSR_0437-4715.pfd'\n",
      " 'prepfold_20190911_042426_PSR_0437-4715.pfd'\n",
      " 'ds4096_J0437-4715_A1_20191008_023343_0.00-0.54_PSR_0437-4715.pfd'\n",
      " 'prepfold_20190731_082243_PSR_0437-4715.pfd'\n",
      " 'ds4096_J0437-4715_A1_20191007_023739_0.00-0.22_PSR_0437-4715.pfd'\n",
      " 'ds4096_J0437-4715_A1_20190910_042752_0.00-0.86_PSR_0437-4715.pfd'\n",
      " 'prepfold_20190604_120907_PSR_0437-4715.pfd'\n",
      " 'prepfold_20190924_051752_PSR_0437-4715.pfd'\n",
      " 'prepfold_20190611_103114_PSR_0437-4715.pfd'\n",
      " 'prepfold_20190917_040546_PSR_0437-4715.pfd'\n",
      " 'prepfold_20190527_114859_PSR_0437-4715.pfd'\n",
      " 'ds4096_J0437-4715_A1_20190928_040712_0.00-0.90_PSR_0437-4715.pfd'\n",
      " 'ds4096_J0437-4715_A1_20190901_050244_0.00-0.87_PSR_0437-4715.pfd'\n",
      " 'prepfold_20190614_101402_PSR_0437-4715.pfd'\n",
      " 'ds4096_J0437-4715_A1_20190921_040925_0.00-0.90_PSR_0437-4715.pfd'\n",
      " 'prepfold_20190629_094403_PSR_0437-4715.pfd'\n",
      " 'prepfold_20190701_092301_PSR_0437-4715.pfd'\n",
      " 'prepfold_20190925_034438_PSR_0437-4715.pfd'\n",
      " 'ds4096_J0437-4715_A1_20190915_041822_0.00-0.88_PSR_0437-4715.pfd'\n",
      " 'prepfold_20190622_094737_PSR_0437-4715.pfd'\n",
      " 'prepfold_20190920_041259_PSR_0437-4715.pfd'\n",
      " 'prepfold_20190805_073114_PSR_0437-4715.pfd'\n",
      " 'prepfold_20190605_105215_PSR_0437-4715.pfd'\n",
      " 'prepfold_20190501_131738_PSR_0437-4715.pfd'\n",
      " 'prepfold_20190913_042927_PSR_0437-4715.pfd']\n"
     ]
    }
   ],
   "source": [
    "#Load all PFD files\n",
    "\n",
    "ant = 'A1'\n",
    "sn = 170\n",
    "\n",
    "timfile = './results_sn_' + str(ant) + '/timing_files/timing_' + str(sn) + '.tim'\n",
    "pfds = np.loadtxt( timfile , skiprows=1 , dtype=str , usecols=(0) )\n",
    "\n",
    "for i in range(len(pfds)):\n",
    "    pfds[i] = pfds[i].replace('./A1_SN/', '')\n",
    "    \n",
    "print(pfds)"
   ]
  },
  {
   "cell_type": "code",
   "execution_count": 62,
   "metadata": {},
   "outputs": [],
   "source": [
    "# Define the folder\n",
    "ant = 'A1'\n",
    "timing_folder = './' + str(ant) + '_SN/'\n",
    "\n",
    "subintstoa= './subints.tim'\n",
    "singletoa= './single.tim'\n",
    "\n",
    "# Define general output\n",
    "pat_output_subints= '>> {}'.format(subintstoa)\n",
    "\n",
    "# Define individual output\n",
    "pat_output_individual= '>> {}'.format(singletoa)\n",
    "\n",
    "# Choose a given number of subintegrations to obtain toa and a flag:\n",
    "\n",
    "nsubints = 10\n",
    "\n",
    "# Define general output\n",
    "pat_output_subints= '>> {}'.format(subintstoa)\n",
    "\n",
    "for pfd in pfds:\n",
    "#    print('pat '+pat_args(10)+pfd+pat_output_subints)\n",
    "    subprocess.call(['pat '+pat_args(nsubints)+pfd+pat_output_subints], cwd=timing_folder, shell=True)\n",
    "    subprocess.call(['pat '+pat_args(1)+pfd+pat_output_individual], cwd=timing_folder, shell=True)"
   ]
  },
  {
   "cell_type": "code",
   "execution_count": null,
   "metadata": {
    "collapsed": true
   },
   "outputs": [],
   "source": []
  }
 ],
 "metadata": {
  "kernelspec": {
   "display_name": "Python 2",
   "language": "python",
   "name": "python2"
  },
  "language_info": {
   "codemirror_mode": {
    "name": "ipython",
    "version": 2
   },
   "file_extension": ".py",
   "mimetype": "text/x-python",
   "name": "python",
   "nbconvert_exporter": "python",
   "pygments_lexer": "ipython2",
   "version": "2.7.13"
  }
 },
 "nbformat": 4,
 "nbformat_minor": 2
}
