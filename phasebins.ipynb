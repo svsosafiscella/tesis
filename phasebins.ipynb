{
 "cells": [
  {
   "cell_type": "code",
   "execution_count": 3,
   "metadata": {
    "collapsed": true
   },
   "outputs": [],
   "source": [
    "#-----------------------------------------\n",
    "# importamos los paquetes que vamos a usar\n",
    "#-----------------------------------------\n",
    "\n",
    "import numpy as np\n",
    "import glob                         # para hacer listas de archivo\n",
    "import subprocess                   # para usar subprocesos"
   ]
  },
  {
   "cell_type": "code",
   "execution_count": 28,
   "metadata": {},
   "outputs": [],
   "source": [
    "#-----------------------------------------\n",
    "# nos quedamos con los .pfds de nbin=1024\n",
    "#-----------------------------------------\n",
    "\n",
    "# creamos una lista con todos los archivos .pfd\n",
    "\n",
    "timing_folder = './A1/'\n",
    "pfd_files = glob.glob(timing_folder+'*pfd')               # lista de archivos .pfd\n",
    "output = \"output.dat\"                                     # nombre del archivo de salida del cual vamos leyendo los headers\n",
    "\n",
    "# para cada archvio .pfd, generamos un archivo con su header y leemos su nbins y su nchan\n",
    "\n",
    "n=0\n",
    "m=0\n",
    "pfds_1024 = []\n",
    "pfds_1024_128 = []\n",
    "\n",
    "for pfd in pfd_files:\n",
    "    \n",
    "    subprocess.call( \"psrstat >\" + output + \" \" + pfd , shell=True )\n",
    "    \n",
    "    n_bins = np.genfromtxt ( output, comments=\"none\", dtype=int, skip_header=1, max_rows=1, usecols=(6) )\n",
    "    n_chan = np.genfromtxt ( output, comments=\"none\", dtype=int, skip_header=2, max_rows=1, usecols=(5) )\n",
    "\n",
    "    \n",
    "    if n_bins==1024:                                     # si el .pfd tiene nbin=1024\n",
    "        pfds_1024.append(pfd)                            # entonces lo guardamos en la lista\n",
    "        n += 1                                           # y aumentamos en 1 el numero de pfds con nbin=1024\n",
    "        \n",
    "        if n_chan==128:                                  # si el .pfd tiene nchan=128           \n",
    "            pfds_1024_128.append(pfd)               # entonces lo guardamos en la lista\n",
    "            m += 1                              "
   ]
  },
  {
   "cell_type": "code",
   "execution_count": 44,
   "metadata": {},
   "outputs": [
    {
     "data": {
      "text/plain": [
       "0"
      ]
     },
     "execution_count": 44,
     "metadata": {},
     "output_type": "execute_result"
    }
   ],
   "source": [
    "#-----------------------------------------------------------\n",
    "# generamos el template usando los archivos enlistados antes\n",
    "#-----------------------------------------------------------\n",
    "\n",
    "nbin=1024\n",
    "\n",
    "# primero, generamos un string que contenga todos los archivos .pfd\n",
    "# de nchan=128, con los que vamos a generar el template\n",
    "\n",
    "archivos128 = ''\n",
    "for j in range(m):\n",
    "    archivos128 = archivos128 + str(pfds_1024_128[j].decode('utf-8')) + ' '\n",
    "\n",
    "# ahora llamamos al psradd para generar el template sumando observaciones\n",
    "\n",
    "template = \"template_\" + str(nbin)   # nombre del template\n",
    "\n",
    "subprocess.call( \"psradd -P \" + str(archivos128) + \"-o \" + str(template) \".pfd\" , shell=True )\n",
    "\n",
    "subprocess.call( \"psrconv -o PSRFITS -e std\" + str(template) + \".pfd\" , shell=True )"
   ]
  },
  {
   "cell_type": "code",
   "execution_count": 33,
   "metadata": {},
   "outputs": [
    {
     "data": {
      "text/plain": [
       "0"
      ]
     },
     "execution_count": 33,
     "metadata": {},
     "output_type": "execute_result"
    }
   ],
   "source": [
    "#-----------------------------------------\n",
    "# generamos los TOAs (el archivo .tim)\n",
    "#-----------------------------------------\n",
    "\n",
    "nbin=1024\n",
    "\n",
    "template = \"template_\" + str(nbin) + \"_64.std.sm\"  # nombre del template\n",
    "timing_file = \"timing_\" + str(nbin) + \".tim\"       # nombre del archivo .tim\n",
    "archivos = ''\n",
    "\n",
    "# primero, generamos un string que contenga todos los archivos .pfd\n",
    "\n",
    "for pfd in pfds_1024:\n",
    "    archivos = archivos + pfd + ' '\n",
    "    \n",
    "# ahora llamamos a pat para generar el archivo .tim\n",
    "\n",
    "subprocess.call( \"pat -FT -A PGS -s \" + template + \" -f >\" + timing_file + \" 'tempo2' \" + archivos , shell=True )"
   ]
  },
  {
   "cell_type": "code",
   "execution_count": null,
   "metadata": {
    "collapsed": true
   },
   "outputs": [],
   "source": [
    "#-----------------------------------------\n",
    "# calculamos el rms usando tempo2\n",
    "#-----------------------------------------\n",
    "\n",
    "residue_file = \"residues_\" + str(nbin) + \".dat\"   # nombre del archivo de los residuos\n",
    "\n",
    "subprocess.call( \"tempo2 >\" + residue_file + \" -us -f J0437-4715.par \" + timing_file , shell=True)\n",
    "\n",
    "# abrimos el archivo generado por tempo2, donde se encuentra el RMS que buscamos\n",
    "\n",
    "#    RMS = np.genfromtxt ( residue_file, comments=\"none\", dtype=float, skip_header=18, max_rows=1, usecols=(10) )\n",
    "    \n",
    "# escribimos el resultado en el archivo de salida\n",
    "\n",
    "# res.write( nbin, RMS )"
   ]
  }
 ],
 "metadata": {
  "kernelspec": {
   "display_name": "Python 3",
   "language": "python",
   "name": "python3"
  },
  "language_info": {
   "codemirror_mode": {
    "name": "ipython",
    "version": 3
   },
   "file_extension": ".py",
   "mimetype": "text/x-python",
   "name": "python",
   "nbconvert_exporter": "python",
   "pygments_lexer": "ipython3",
   "version": "3.6.2"
  }
 },
 "nbformat": 4,
 "nbformat_minor": 4
}
