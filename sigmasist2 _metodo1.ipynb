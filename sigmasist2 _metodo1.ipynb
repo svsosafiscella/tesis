{
 "cells": [
  {
   "cell_type": "code",
   "execution_count": 2,
   "metadata": {
    "collapsed": true
   },
   "outputs": [],
   "source": [
    "import numpy as np\n",
    "\n",
    "import decimal\n",
    "import matplotlib.pyplot as plt\n",
    "import matplotlib.cbook as cbook\n",
    "import subprocess\n",
    "import math"
   ]
  },
  {
   "cell_type": "code",
   "execution_count": 3,
   "metadata": {
    "collapsed": true
   },
   "outputs": [],
   "source": [
    "# pequeña funcion que nos servira mas adelante para saber por cuanto debemos multiplicar\n",
    "# el paso para poder obtener un numero entero que ingresar en el for\n",
    "def num_after_point(x):\n",
    "    s = str(x)\n",
    "    if not '.' in s:\n",
    "        return 0\n",
    "    return len(s) - s.index('.') - 1"
   ]
  },
  {
   "cell_type": "code",
   "execution_count": 8,
   "metadata": {
    "collapsed": true
   },
   "outputs": [],
   "source": [
    "def chissqr(sigma_s):    # funcion que, dado un sigma sistematico, encuentra el chi cuadrado del grafico de residuos  \n",
    "\n",
    "# creamos un nuevo archivo .tim en el cual a los errores sumamos este sigma sistematico\n",
    "\n",
    "    timing_folder = './timing_' + str(sn) + '/'\n",
    "    timfile = \"data_\" + str(sigma_s) + \".tim\"     # nombre del nuevo archivo .tim, donde hemos sumado el sigma sistematico\n",
    "    resfile = \"residues_\" + str(sigma_s) + \".dat\" # nombre del archivo que contendra el chi cuadrado\n",
    "    \n",
    "    f = open(timing_folder + timfile, \"w+\")                    # abrimos el nuevo archivo .tim\n",
    "    print(\"FORMAT 1\" , file = f)               # escibimos la primera linea\n",
    "             \n",
    "# ingresamos los datos, con el error aumentado en una cantidad igual a sigma sistematico\n",
    "    \n",
    "    for j in range(len(error)):\n",
    "        \n",
    "        newerror = math.sqrt( (error[j])**2 + (sigma_s)**2 )\n",
    "        print( str(file[j]) + ' ' + '{:11.6f}'.format(freq[j]) + ' ' + str(MJD[j]) + '   ' + '{:5.3f}'.format(newerror) + '  ' + str(telescope[j]), file = f)\n",
    "    \n",
    "    f.close()\n",
    "    \n",
    "# llamamos a tempo2\n",
    "    \n",
    "    subprocess.call( \"tempo2 >\" + resfile + \" -us -f J0437-4715.par \" + timfile, cwd=timing_folder, shell = True)\n",
    "\n",
    "# abrimos el archivo generado por tempo2, donde se encuentra el chicuadrado que buscamos\n",
    "\n",
    "    chi_sqr_red = np.genfromtxt ( timing_folder + resfile, comments=\"none\", dtype=float, skip_header=19, max_rows=1, usecols=(8) )\n",
    "\n",
    "# devolvemos la informacion al programa principal\n",
    "\n",
    "    return chi_sqr_red"
   ]
  },
  {
   "cell_type": "code",
   "execution_count": 32,
   "metadata": {},
   "outputs": [
    {
     "name": "stdout",
     "output_type": "stream",
     "text": [
      "xmin = 0.0\n",
      "xmax = 1.0\n",
      "step = 0.1\n",
      "tol = 0.0001\n",
      "sn = 170\n"
     ]
    }
   ],
   "source": [
    "# leemos los parámetros del archivo de entrada\n",
    "\n",
    "xmin = np.genfromtxt(\"interval.txt\", comments=\"none\", dtype=float, skip_header=0, max_rows=1, usecols=(2) )\n",
    "xmax = np.genfromtxt(\"interval.txt\", comments=\"none\", dtype=float, skip_header=1, max_rows=1, usecols=(2) )\n",
    "step = np.genfromtxt(\"interval.txt\", comments=\"none\", dtype=float, skip_header=2, max_rows=1, usecols=(2) )\n",
    "tol = np.genfromtxt(\"interval.txt\", comments=\"none\", dtype=float, skip_header=3, max_rows=1, usecols=(2) )\n",
    "sn = np.genfromtxt(\"interval.txt\", comments=\"none\", dtype=str, skip_header=4, max_rows=1, usecols=(2) )\n",
    "\n",
    "print(\"xmin = \" + str(xmin))\n",
    "print(\"xmax = \" + str(xmax))\n",
    "print(\"step = \" + str(step))\n",
    "print(\"tol = \" + str(tol))\n",
    "print(\"sn = \" + str(sn))\n",
    "\n",
    "a = num_after_point(step)           # número de decimales en el paso\n",
    "xmin_int = int( xmin * (10 ** a) )  # límite inferior entero del intervalo\n",
    "xmax_int = int( xmax * (10 ** a) )  # límite superior entero del intervalo\n",
    "step_int = int( step * (10 ** a) )  # paso entero\n",
    "\n",
    "n = int( (xmax_int-xmin_int)/step_int ) # numero de subintervalos\n",
    "\n",
    "# creamos un array para que guarde los sigma sistematicos de prueba y otro para los chi_sqr\n",
    "\n",
    "trial_sigma = np.empty(n)\n",
    "chi_sqr = np.empty(n)"
   ]
  },
  {
   "cell_type": "code",
   "execution_count": 33,
   "metadata": {
    "collapsed": true,
    "scrolled": false
   },
   "outputs": [],
   "source": [
    "# leemos los errores en el TOA del archivo .tim generado por pat\n",
    "\n",
    "timfile = \"./timing_files/timing_\" + str(sn) + \".tim\"\n",
    "\n",
    "file = np.loadtxt( timfile , skiprows=1 , dtype=str , usecols=(0) )\n",
    "freq = np.loadtxt( timfile, skiprows=1, dtype=float , usecols=(1) )\n",
    "MJD = np.loadtxt( timfile , skiprows=1 , dtype=decimal.Decimal , usecols=(2) )\n",
    "error = np.loadtxt( timfile , skiprows=1 , dtype=float,  usecols=(3) )\n",
    "telescope = np.loadtxt( timfile, skiprows=1, dtype=str, usecols=(4) )\n",
    "\n",
    "#print(file)\n",
    "#for i in range(0, len(error)):\n",
    "#    print(file[i], freq[i], MJD[i], error[i], telescope[i])"
   ]
  },
  {
   "cell_type": "code",
   "execution_count": 34,
   "metadata": {
    "scrolled": true
   },
   "outputs": [
    {
     "name": "stdout",
     "output_type": "stream",
     "text": [
      "0.0 13.9552\n",
      "0.1 9.67016\n",
      "0.2 5.11213\n",
      "0.3 2.88277\n",
      "0.4 1.79096\n",
      "0.5 1.20337\n",
      "0.6 0.860111\n",
      "0.7 0.642911\n",
      "0.8 0.497789\n",
      "0.9 0.396532\n",
      "el chi_sqr mas cercano a 1 es: 0.860111\n",
      "el correspondiente sigma_s es: 0.6\n",
      "0.5 1.20337\n",
      "0.51 1.1613\n",
      "0.52 1.12051\n",
      "0.53 1.08265\n",
      "0.54 1.04539\n",
      "0.55 1.01076\n",
      "0.56 0.978104\n",
      "0.57 0.945464\n",
      "0.58 0.916289\n",
      "0.59 0.886938\n",
      "el chi_sqr mas cercano a 1 es: 1.01076\n",
      "el correspondiente sigma_s es: 0.55\n",
      "0.55 1.01076\n",
      "0.551 1.0076\n",
      "0.552 1.00473\n",
      "0.553 1.00124\n",
      "0.554 0.997994\n",
      "0.555 0.994538\n",
      "0.556 0.991375\n",
      "0.557 0.987953\n",
      "0.558 0.984647\n",
      "0.559 0.981259\n",
      "el chi_sqr mas cercano a 1 es: 1.00124\n",
      "el correspondiente sigma_s es: 0.553\n"
     ]
    }
   ],
   "source": [
    "# Set-up a period grid with values separated by 0.1 µs between 0 and 1\n",
    "\n",
    "output = open(\"sigmasis_50.dat\", \"w\")                                    # abrimos un archivo de salida\n",
    "\n",
    "while step > 0.0001:\n",
    "\n",
    "    i = 0\n",
    "    for x in range(xmin_int, xmax_int, step_int):\n",
    "\n",
    "        sigma_s = float(x)/ (10. ** a)      # sigma sistematico    \n",
    "\n",
    "# guardamos la informacion\n",
    "\n",
    "        trial_sigma[i] = sigma_s\n",
    "        chi_sqr[i] = chissqr(sigma_s)\n",
    "    \n",
    "        print( str(trial_sigma[i]) + ' ' + str(chi_sqr[i]) )                   # escribimos por pantalla  \n",
    "        output.write( str(trial_sigma[i]) + ' ' + str(chi_sqr[i]) )           # escribimos en el archivo de salida\n",
    "    \n",
    "        i += 1\n",
    "\n",
    "# Creamos un nuevo array que sea la diferencia entre los chi_sqr obtenidos y 1\n",
    "# y buscamos el chi cuadrado más cercano a uno y el correspondiente sigma\n",
    "\n",
    "    diff_chi_sqr = abs ( chi_sqr - 1. )                   # creamos un array que sea la diferencia entre los chi y 1\n",
    "    closer_chi = chi_sqr[ np.argmin(diff_chi_sqr)]        # hallamos el chi cuadrado más cercano a 1\n",
    "    closer_sigma = trial_sigma[ np.argmin(diff_chi_sqr) ] # hallamos el correspondiente sigma \n",
    "    \n",
    "# creamos un nuevo intervalo más acotado donde buscar el sigma sistematico\n",
    "\n",
    "        \n",
    "    if closer_chi < 1.0:\n",
    "        xmax = closer_sigma\n",
    "        xmin = closer_sigma - step\n",
    "    elif closer_chi > 1.0:\n",
    "        xmax = closer_sigma + step\n",
    "        xmin = closer_sigma\n",
    "    else:\n",
    "        print(\"end of iterations\")\n",
    "        print(\"el chi_sqr mas cercano a 1 es: \" + str( closer_chi ) )\n",
    "        print(\"el correspondiente sigma_s es: \" + str( closer_sigma ) )\n",
    "        exit()        \n",
    "    \n",
    "    step = step / 10.0\n",
    "    \n",
    "    a = num_after_point(step)           # número de decimales en el paso\n",
    "    xmin_int = int( xmin * (10 ** a) )  # límite inferior entero del intervalo\n",
    "    xmax_int = int( xmax * (10 ** a) )  # límite superior entero del intervalo\n",
    "    step_int = int( step * (10 ** a) )  # paso entero\n",
    "\n",
    "    n = int( (xmax_int-xmin_int)/step_int ) # numero de subintervalos\n",
    "\n",
    "# creamos un array para que guarde los sigma sistematicos de prueba y otro para los chi_sqr\n",
    "\n",
    "    trial_sigma.resize(n)\n",
    "    chi_sqr.resize(n)\n",
    "    \n",
    "# Hallamos el máximo chi_sqr mas cercano a 1 y el correspondiente sigma sistematico\n",
    "\n",
    "    print(\"el chi_sqr mas cercano a 1 es: \" + str( closer_chi ) )\n",
    "    print(\"el correspondiente sigma_s es: \" + str( closer_sigma ) )"
   ]
  },
  {
   "cell_type": "code",
   "execution_count": 35,
   "metadata": {},
   "outputs": [
    {
     "name": "stdout",
     "output_type": "stream",
     "text": [
      "./timing_170/residues_0.553.dat\n",
      "RMS = 0.563\n"
     ]
    }
   ],
   "source": [
    "#-----------------------------------------\n",
    "# calculamos el rms usando tempo2\n",
    "#-----------------------------------------\n",
    "\n",
    "residue_file = './timing_' + str(sn) + '/residues_' + str( closer_sigma ) + '.dat'\n",
    "print(residue_file)\n",
    "\n",
    "RMS = np.genfromtxt ( residue_file, comments=\"none\", dtype=float, skip_header=18, max_rows=1, usecols=(10) )\n",
    "\n",
    "print(\"RMS = \" + str(RMS) )"
   ]
  }
 ],
 "metadata": {
  "kernelspec": {
   "display_name": "Python 3",
   "language": "python",
   "name": "python3"
  },
  "language_info": {
   "codemirror_mode": {
    "name": "ipython",
    "version": 3
   },
   "file_extension": ".py",
   "mimetype": "text/x-python",
   "name": "python",
   "nbconvert_exporter": "python",
   "pygments_lexer": "ipython3",
   "version": "3.6.2"
  }
 },
 "nbformat": 4,
 "nbformat_minor": 4
}
