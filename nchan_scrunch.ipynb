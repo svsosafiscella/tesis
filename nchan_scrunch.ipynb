{
 "cells": [
  {
   "cell_type": "code",
   "execution_count": 1,
   "metadata": {},
   "outputs": [],
   "source": [
    "#-----------------------------------------\n",
    "# importamos los paquetes que vamos a usar\n",
    "#-----------------------------------------\n",
    "\n",
    "import psrchive\n",
    "import matplotlib.pyplot as plt\n",
    "import numpy as np\n",
    "import glob                         # para hacer listas de archivo\n",
    "import subprocess                   # para usar subprocesos"
   ]
  },
  {
   "cell_type": "code",
   "execution_count": 14,
   "metadata": {},
   "outputs": [
    {
     "name": "stdout",
     "output_type": "stream",
     "text": [
      "Numero total de observaciones: 133\n",
      "Observaciones con nchan=64 : 130\n"
     ]
    }
   ],
   "source": [
    "#-----------------------------------------\n",
    "# nos quedamos con los .pfds de nchan\n",
    "#-----------------------------------------\n",
    "\n",
    "# creamos una lista con todos los archivos .pfd\n",
    "\n",
    "ant = 'A2'                                                # antena usada (A1 o A2)\n",
    "nchan = 64                                                # numero de canales\n",
    "\n",
    "timing_folder = './' + str(ant) + '/'\n",
    "pfd_files_total = glob.glob(timing_folder+'*pfd')         # lista de archivos .pfd\n",
    "output = \"output.dat\"                                     # nombre del archivo de salida del cual vamos leyendo los headers\n",
    "\n",
    "# para cada archvio .pfd, generamos un archivo con su header y leemos su nchan\n",
    "\n",
    "pfd_files = []\n",
    "\n",
    "for pfd in pfd_files_total:\n",
    "    \n",
    "    subprocess.call( \"psrstat >\" + output + \" \" + pfd , shell=True )\n",
    "    \n",
    "    n_chan = np.genfromtxt ( output, comments=\"none\", dtype=int, skip_header=2, max_rows=1, usecols=(5) )\n",
    "\n",
    "    \n",
    "    if n_chan==nchan:                            # si el .pfd tiene el nchan deseado\n",
    "        pfd_files.append(pfd)                    # entonces lo guardamos en la lista\n",
    "        \n",
    "print(\"Numero total de observaciones: \" + str(len(pfd_files_total)))\n",
    "print(\"Observaciones con nchan=\" + str(nchan) + \" : \" + str(len(pfd_files)))"
   ]
  },
  {
   "cell_type": "code",
   "execution_count": null,
   "metadata": {
    "collapsed": true
   },
   "outputs": [],
   "source": [
    "#-----------------------------------------\n",
    "# generamos los TOAs (el archivo .tim)\n",
    "#-----------------------------------------\n",
    "\n",
    "template = \"template_\" + str(nbin) + \"_\" + str(ant) + \".std.sm\"  # nombre del template\n",
    "timing_file = \"timing_\" + str(nbin) + \"_\" + str(ant) + \".tim\"       # nombre del archivo .tim\n",
    "\n",
    "print(\"template = \" + str(template) )\n",
    "print(\"timing file = \" + str(timing_file) )\n",
    "\n",
    "archivos = ''\n",
    "\n",
    "# primero, generamos un string que contenga todos los archivos .pfd\n",
    "\n",
    "for pfd in pfd_files:\n",
    "    archivos = archivos + pfd + ' '\n",
    "       \n",
    "# ahora llamamos a pat para generar el archivo .tim\n",
    "\n",
    "subprocess.call( \"pat -FT -A PGS -s \" + template + \" -f >\" + timing_file + \" 'tempo2' \" + archivos , shell=True )"
   ]
  }
 ],
 "metadata": {
  "kernelspec": {
   "display_name": "Python 2",
   "language": "python",
   "name": "python2"
  },
  "language_info": {
   "codemirror_mode": {
    "name": "ipython",
    "version": 2
   },
   "file_extension": ".py",
   "mimetype": "text/x-python",
   "name": "python",
   "nbconvert_exporter": "python",
   "pygments_lexer": "ipython2",
   "version": "2.7.13"
  }
 },
 "nbformat": 4,
 "nbformat_minor": 2
}
